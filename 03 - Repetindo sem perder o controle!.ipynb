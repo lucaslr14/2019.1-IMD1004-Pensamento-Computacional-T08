{
  "nbformat": 4,
  "nbformat_minor": 0,
  "metadata": {
    "colab": {
      "name": "03 - Repetindo sem perder o controle!.ipynb",
      "version": "0.3.2",
      "provenance": [],
      "collapsed_sections": [],
      "include_colab_link": true
    },
    "language_info": {
      "codemirror_mode": {
        "name": "ipython",
        "version": 3
      },
      "file_extension": ".py",
      "mimetype": "text/x-python",
      "name": "python",
      "nbconvert_exporter": "python",
      "pygments_lexer": "ipython3",
      "version": "3.6.8"
    },
    "kernelspec": {
      "display_name": "Python 3",
      "language": "python",
      "name": "python3"
    }
  },
  "cells": [
    {
      "cell_type": "markdown",
      "metadata": {
        "id": "view-in-github",
        "colab_type": "text"
      },
      "source": [
        "<a href=\"https://colab.research.google.com/github/lucaslr14/2019.1-IMD1004-Pensamento-Computacional-T08/blob/master/03%20-%20Repetindo%20sem%20perder%20o%20controle!.ipynb\" target=\"_parent\"><img src=\"https://colab.research.google.com/assets/colab-badge.svg\" alt=\"Open In Colab\"/></a>"
      ]
    },
    {
      "cell_type": "markdown",
      "metadata": {
        "id": "p0u3xvV606qM",
        "colab_type": "text"
      },
      "source": [
        "<small><small><i>\n",
        "Este notebook foi baseado nos notebooks disponíveis em [https://gitlab.erc.monash.edu.au/andrease/Python4Maths.git]\n",
        "</i></small></small>"
      ]
    },
    {
      "cell_type": "markdown",
      "metadata": {
        "id": "hzkxLWKf06qT",
        "colab_type": "text"
      },
      "source": [
        "# Repetindo sem perder o controle!\n",
        "\n",
        "Python permite que um trecho de código seja executado múltiplas vezes **estruturas de repetição**. \n",
        "\n",
        "Pra não perder o controle do seu código e cair em um loop infinito, estruturas de repetição se baseiam em **condições de parada**.\n",
        "\n",
        "Neste roteiro, você aprenderá a utilizar estes conceitos da linguagem Python.\n",
        "\n",
        "## Estruturas de repetição\n",
        "\n",
        "Muitas vezes, é necessário executar um mesmo trecho de código várias vezes:\n",
        "* Quando um sistema pede uma senha ao usuário, mas ele tem uma certa quantidade de tentativas possívels.\n",
        "* Quando queremos cadastrar múltiplos contatos em uma agenda.\n",
        "* Quando estamos calculando a média de várias avaliações de uma disciplina.\n",
        "\n",
        "Em todas essas situações, precisamos repetir um trecho de código **sem cair em um loop infinito**. Há três situações comuns:\n",
        "* Sabemos quantas vezes queremos executar um código.\n",
        "* Queremos executar um código enquanto uma condição for verdadeira.\n",
        "* Queremos executar um código até que determinada situação aconteça.\n",
        "\n",
        "Python oferece duas estruturas de repetição, que podem ser usadas nas situações descritas acima:"
      ]
    },
    {
      "cell_type": "markdown",
      "metadata": {
        "id": "1mr6Yj1S06qW",
        "colab_type": "text"
      },
      "source": [
        "| Estrutura | Significado |\n",
        "|:----:|:--|\n",
        "| ```for``` | Sabemos quantas vezes queremos executar um código.  <br> Queremos iterar sobre os elementos de uma coleção.|\n",
        "| ```while```  | Queremos executar um código até que determinada situação aconteça. <br> Queremos executar um código enquanto uma condição for verdadeira. |"
      ]
    },
    {
      "cell_type": "markdown",
      "metadata": {
        "id": "ros4E2Cr06qc",
        "colab_type": "text"
      },
      "source": [
        "## A estrutura ```for```"
      ]
    },
    {
      "cell_type": "markdown",
      "metadata": {
        "id": "F5VJ_JTl06qh",
        "colab_type": "text"
      },
      "source": [
        "Quando sabemos quantas vezes queremos executar um código, a estrutura de repetição ```for``` deve ser nossa escolha:\n",
        "\n",
        "```python\n",
        "for iterador in intervalo:\n",
        "    expressao\n",
        "    expressao\n",
        "    ...\n",
        "```\n",
        "\n",
        "As regras básicas para o uso da estrutura **for** em Python são:\n",
        "\n",
        "* O trecho de código delimitado por uma estrutura **for** é chamado bloco e deve ser identado.\n",
        "* O procedimento **range(inicio, fim)** permite definir um intervalo de valores que a variavel **iterador** pode assumir durante a execução do ```for```. \n",
        "\n",
        "O exemplo abaixo mostra como esta estrutura pode ser usada para que um código seja repetido por 5 vezes:"
      ]
    },
    {
      "cell_type": "code",
      "metadata": {
        "scrolled": true,
        "id": "yP6Y8ULh06qj",
        "colab_type": "code",
        "outputId": "4d2247c3-7b12-421c-b160-fa124701942f",
        "colab": {
          "base_uri": "https://localhost:8080/",
          "height": 109
        }
      },
      "source": [
        "for i in range(0,5):\n",
        "    print(\"Execução\", i+1)"
      ],
      "execution_count": 0,
      "outputs": [
        {
          "output_type": "stream",
          "text": [
            "Execução 1\n",
            "Execução 2\n",
            "Execução 3\n",
            "Execução 4\n",
            "Execução 5\n"
          ],
          "name": "stdout"
        }
      ]
    },
    {
      "cell_type": "markdown",
      "metadata": {
        "id": "fUyQl-3706qw",
        "colab_type": "text"
      },
      "source": [
        "Note que a função range define intervalos do tipo **[início, fim)**, isto é, valores maiores ou iguais a **início** e menores que **fim**.\n",
        "\n",
        "Também é possível definir intervalos mais elaborados, criando séries com diferentes crescimentos ou até mesmo decréscimos:"
      ]
    },
    {
      "cell_type": "code",
      "metadata": {
        "scrolled": true,
        "id": "UfZEKjue06qy",
        "colab_type": "code",
        "outputId": "3a684895-5abe-4244-d89e-5410752871e9",
        "colab": {
          "base_uri": "https://localhost:8080/",
          "height": 72
        }
      },
      "source": [
        "# Série crescedo de 2 em 2\n",
        "for i in range(0,5,2):\n",
        "    print(\"Valor de i:\", i)"
      ],
      "execution_count": 0,
      "outputs": [
        {
          "output_type": "stream",
          "text": [
            "Valor de i: 0\n",
            "Valor de i: 2\n",
            "Valor de i: 4\n"
          ],
          "name": "stdout"
        }
      ]
    },
    {
      "cell_type": "code",
      "metadata": {
        "scrolled": true,
        "id": "3N4zqKNl06q9",
        "colab_type": "code",
        "outputId": "68bc5012-3f77-4f6f-bd98-c76dd2dae3e8",
        "colab": {
          "base_uri": "https://localhost:8080/",
          "height": 146
        }
      },
      "source": [
        "# Série decrescendo de 5 em 5\n",
        "for i in range(15,-20,-5):\n",
        "    print(\"Valor de i:\", i)"
      ],
      "execution_count": 0,
      "outputs": [
        {
          "output_type": "stream",
          "text": [
            "Valor de i: 15\n",
            "Valor de i: 10\n",
            "Valor de i: 5\n",
            "Valor de i: 0\n",
            "Valor de i: -5\n",
            "Valor de i: -10\n",
            "Valor de i: -15\n"
          ],
          "name": "stdout"
        }
      ]
    },
    {
      "cell_type": "markdown",
      "metadata": {
        "id": "b4K_d0gH06rF",
        "colab_type": "text"
      },
      "source": [
        "### Exercícios de fixação"
      ]
    },
    {
      "cell_type": "markdown",
      "metadata": {
        "id": "VKN15uoA06rJ",
        "colab_type": "text"
      },
      "source": [
        "1 - Peça ao usuário suas notas das 3 unidades de uma disciplina e calcule sua média."
      ]
    },
    {
      "cell_type": "code",
      "metadata": {
        "id": "Zmb7tHg406rO",
        "colab_type": "code",
        "outputId": "89f7e3ad-6f3a-49b0-a094-19a8f27c0e96",
        "colab": {
          "base_uri": "https://localhost:8080/",
          "height": 109
        }
      },
      "source": [
        "#ENTRADA\n",
        "nota1 = float(input(\"Digite a nota da primeira unidade: \"))\n",
        "nota2 = float(input(\"Digite a nota da segunda unidade: \"))\n",
        "nota3 = float(input(\"Digite a nota da terceira unidade: \"))\n",
        "\n",
        "#CÁLCULO\n",
        "média = (nota1+nota2+nota3)/3\n",
        "\n",
        "#IMPRESSÃO\n",
        "print(\"-------------------------------------\")\n",
        "print(\"A nota média das três unidades é\", média)"
      ],
      "execution_count": 0,
      "outputs": [
        {
          "output_type": "stream",
          "text": [
            "Digite a nota da primeira unidade: 8\n",
            "Digite a nota da segunda unidade: 9\n",
            "Digite a nota da terceira unidade: 10\n",
            "-------------------------------------\n",
            "A nota média das três unidades é 9.0\n"
          ],
          "name": "stdout"
        }
      ]
    },
    {
      "cell_type": "markdown",
      "metadata": {
        "id": "0azHzX7T06rW",
        "colab_type": "text"
      },
      "source": [
        "2 - Solicite ao usuário um inteiro positivo *n* e imprima a soma dos números pares entre 0 e *n*."
      ]
    },
    {
      "cell_type": "code",
      "metadata": {
        "id": "1NnDZEgf06rY",
        "colab_type": "code",
        "colab": {}
      },
      "source": [
        "#ENTRADA\n",
        "n = int(input(\"Digite um número inteiro positivo: \"))\n",
        "soma = 0\n",
        "\n",
        "#CÁLCULO\n",
        "for cont in range(0,n):\n",
        "  if cont%2 == 0:\n",
        "    soma = soma+cont\n",
        "    cont+1\n",
        "  else:\n",
        "    cont+1\n",
        "\n",
        "print(\"A soma dos valores pares entre 0 e\", n, \"é igual a\", soma)"
      ],
      "execution_count": 0,
      "outputs": []
    },
    {
      "cell_type": "markdown",
      "metadata": {
        "id": "5nZkV51A06ri",
        "colab_type": "text"
      },
      "source": [
        "3 - Analise os números entre -25 e 50. Se o número for múltiplo de 2, imprima BUS. Se for múltiplo de 3, imprima FEES. Caso seja múltiplo de 2 e de 3 ao mesmo tempo, imprima BUS e FEES."
      ]
    },
    {
      "cell_type": "code",
      "metadata": {
        "id": "AE21GjIL06ti",
        "colab_type": "code",
        "colab": {}
      },
      "source": [
        "print(\"---------------\")\n",
        "for cont in range(-25,50):\n",
        "  if cont%2 == 0 and cont%3 == 0:\n",
        "    print(\"BUS e FEES\")\n",
        "    cont+1\n",
        "  elif cont%2 == 0:\n",
        "    print(\"BUS\")\n",
        "    cont+1\n",
        "  elif cont%3 == 0:\n",
        "    print(\"FEES\")\n",
        "    cont+1\n",
        "  else:\n",
        "    cont+1\n",
        "print(\"---------------\")"
      ],
      "execution_count": 0,
      "outputs": []
    },
    {
      "cell_type": "markdown",
      "metadata": {
        "id": "AQrKcScD06tr",
        "colab_type": "text"
      },
      "source": [
        "4 - Solicite ao usuário um inteiro positivo *n* e calcule o fatorial de *n*."
      ]
    },
    {
      "cell_type": "code",
      "metadata": {
        "id": "ioy4U3b706tt",
        "colab_type": "code",
        "outputId": "85b9e4d6-1a31-4c54-f601-2481801ed472",
        "colab": {
          "base_uri": "https://localhost:8080/",
          "height": 54
        }
      },
      "source": [
        "#ENTRADA\n",
        "valor = int(input(\"Digite um inteiro positivo: \"))\n",
        "#VALOR REFERENCIAL\n",
        "prod = 1\n",
        "#CÁLCULO\n",
        "for cont in range(valor,0,-1):\n",
        "  prod = prod*cont\n",
        "#IMPRESSÃO\n",
        "print(\"O fatorial de\", valor, \"é igual a\", prod)\n"
      ],
      "execution_count": 0,
      "outputs": [
        {
          "output_type": "stream",
          "text": [
            "Digite um inteiro positivo: 10\n",
            "O fatorial de 10 é igual a 3628800\n"
          ],
          "name": "stdout"
        }
      ]
    },
    {
      "cell_type": "markdown",
      "metadata": {
        "id": "dUqBNlFM06uP",
        "colab_type": "text"
      },
      "source": [
        "## A estrutura ```while```"
      ]
    },
    {
      "cell_type": "markdown",
      "metadata": {
        "id": "BARWEtfi06uW",
        "colab_type": "text"
      },
      "source": [
        "Quando queremos executar um código enquanto uma condição for verdadeira, a estrutura de repetição ```while``` deve ser nossa escolha:\n",
        "\n",
        "```python\n",
        "while condicao:\n",
        "    expressao\n",
        "    expressao\n",
        "    ...\n",
        "```\n",
        "\n",
        "As regras básicas para o uso da estrutura **while** em Python são:\n",
        "\n",
        "* O trecho de código delimitado por uma estrutura **while** é chamado bloco e deve ser identado.\n",
        "* O bloco delimitado por uma estrutura **while** será executado enquanto a expressão lógica (```condicao```) for verdadeira (```True```).\n",
        "\n",
        "Um exemplo de uso desta estrutura é o caso em que não se sabe quantas vezes será necessário executar um trecho de código:"
      ]
    },
    {
      "cell_type": "code",
      "metadata": {
        "scrolled": true,
        "id": "Swh4drhY06uZ",
        "colab_type": "code",
        "outputId": "047cd443-3ffb-4010-cdf4-0d5070e2879b",
        "colab": {
          "base_uri": "https://localhost:8080/",
          "height": 72
        }
      },
      "source": [
        "from random import randint\n",
        "\n",
        "n_multiplos = 0\n",
        "while n_multiplos < 3:\n",
        "    numero = randint(0,30)\n",
        "    if numero % 3 == 0:\n",
        "        n_multiplos += 1\n",
        "        print(\"Múltiplo #\", n_multiplos, \"-\", numero)"
      ],
      "execution_count": 0,
      "outputs": [
        {
          "output_type": "stream",
          "text": [
            "Múltiplo # 1 - 3\n",
            "Múltiplo # 2 - 15\n",
            "Múltiplo # 3 - 0\n"
          ],
          "name": "stdout"
        }
      ]
    },
    {
      "cell_type": "markdown",
      "metadata": {
        "id": "NzYq3SiC06uf",
        "colab_type": "text"
      },
      "source": [
        "Também é possível utilizar a estrutura de repetição ```while``` quando queremos executar um código até que uma determinada situação ocorra:\n",
        "\n",
        "```python\n",
        "while True:\n",
        "    expressao\n",
        "    expressao\n",
        "    ...\n",
        "    if condicao:\n",
        "        break\n",
        "```\n",
        "\n",
        "As regras básicas para o uso da estrutura **while** neste contexto são:\n",
        "\n",
        "* O bloco será executado uma ou mais vezes, até que a condição se torne verdadeira.\n",
        "* O comando **```break```** provoca a interrupção da repetição.\n",
        "\n",
        "O exemplo abaixo mostra como esta estrutura pode ser usada para solicitar uma senha ao usuário até que ele acerte a senha:"
      ]
    },
    {
      "cell_type": "code",
      "metadata": {
        "scrolled": false,
        "id": "2xdLEtIF06uh",
        "colab_type": "code",
        "outputId": "6e753c32-e683-4719-b96f-16be6fde44f1",
        "colab": {
          "base_uri": "https://localhost:8080/",
          "height": 35
        }
      },
      "source": [
        "senha_correta = \"swordfish\"\n",
        "while True:\n",
        "    senha = input(\"Informe sua senha: \")\n",
        "    if senha == senha_correta:\n",
        "        break\n",
        "    else:\n",
        "        print(\"Senha incorreta!\")"
      ],
      "execution_count": 0,
      "outputs": [
        {
          "output_type": "stream",
          "text": [
            "Informe sua senha: swordfish\n"
          ],
          "name": "stdout"
        }
      ]
    },
    {
      "cell_type": "markdown",
      "metadata": {
        "id": "luU4pQF606uq",
        "colab_type": "text"
      },
      "source": [
        "### Exercícios de fixação"
      ]
    },
    {
      "cell_type": "markdown",
      "metadata": {
        "id": "s2GOdcQt06ut",
        "colab_type": "text"
      },
      "source": [
        "1 - Sorteie um número entre 0 e 10 e peça ao usuário para tentar adivinhá-lo. Quando o usuário acertar o número, informe quantas tentativas foram necessárias."
      ]
    },
    {
      "cell_type": "code",
      "metadata": {
        "id": "as0X1fdG06uw",
        "colab_type": "code",
        "outputId": "f6831ac8-6fa2-4e69-8534-5db510087370",
        "colab": {
          "base_uri": "https://localhost:8080/",
          "height": 439
        }
      },
      "source": [
        "from random import randint\n",
        "amostra = randint(0,10)\n",
        "cont_erros = 1\n",
        "\n",
        "while True:\n",
        "  chute = int(input(\"Adivinhe um número entre 0 e 10: \"))\n",
        "  if chute == amostra:\n",
        "    print(\"Acertou!\")\n",
        "    print(\"Precisou de\", cont_erros, \"tentativa(s)\")\n",
        "    break\n",
        "  else:\n",
        "    print(\"Errou, tente mais uma vez!\")\n",
        "    cont_erros = cont_erros+1\n",
        "  "
      ],
      "execution_count": 0,
      "outputs": [
        {
          "output_type": "stream",
          "text": [
            "Adivinhe um número entre 0 e 10: 10\n",
            "Errou, tente mais uma vez!\n",
            "Adivinhe um número entre 0 e 10: 0\n",
            "Errou, tente mais uma vez!\n",
            "Adivinhe um número entre 0 e 10: 9\n",
            "Errou, tente mais uma vez!\n",
            "Adivinhe um número entre 0 e 10: 1\n",
            "Errou, tente mais uma vez!\n",
            "Adivinhe um número entre 0 e 10: 8\n",
            "Errou, tente mais uma vez!\n",
            "Adivinhe um número entre 0 e 10: 2\n",
            "Errou, tente mais uma vez!\n",
            "Adivinhe um número entre 0 e 10: 7\n",
            "Errou, tente mais uma vez!\n",
            "Adivinhe um número entre 0 e 10: 3\n",
            "Errou, tente mais uma vez!\n",
            "Adivinhe um número entre 0 e 10: 6\n",
            "Errou, tente mais uma vez!\n",
            "Adivinhe um número entre 0 e 10: 4\n",
            "Errou, tente mais uma vez!\n",
            "Adivinhe um número entre 0 e 10: 5\n",
            "Acertou!\n",
            "Precisou de 11 tentativa(s)\n"
          ],
          "name": "stdout"
        }
      ]
    },
    {
      "cell_type": "markdown",
      "metadata": {
        "id": "VCQ1-vP_06u6",
        "colab_type": "text"
      },
      "source": [
        "### Pulando parte do código\n",
        "\n",
        "É possível evitar que parte do código seja executada durante uma repetição utilizando o comando ```continue```.\n"
      ]
    },
    {
      "cell_type": "code",
      "metadata": {
        "scrolled": true,
        "id": "gZAQaH1_06u9",
        "colab_type": "code",
        "outputId": "9fbe46c5-c84d-4d13-e282-6d12bc65c55d",
        "colab": {
          "base_uri": "https://localhost:8080/",
          "height": 182
        }
      },
      "source": [
        "soma = 0\n",
        "for i in range(10):\n",
        "    if i == 3:\n",
        "        continue\n",
        "    print(i)"
      ],
      "execution_count": 0,
      "outputs": [
        {
          "output_type": "stream",
          "text": [
            "0\n",
            "1\n",
            "2\n",
            "4\n",
            "5\n",
            "6\n",
            "7\n",
            "8\n",
            "9\n"
          ],
          "name": "stdout"
        }
      ]
    },
    {
      "cell_type": "markdown",
      "metadata": {
        "id": "tjhRFVZ-06vE",
        "colab_type": "text"
      },
      "source": [
        "### Exercícios de fixação"
      ]
    },
    {
      "cell_type": "markdown",
      "metadata": {
        "id": "I3TfY-NN06vH",
        "colab_type": "text"
      },
      "source": [
        "1 - Imprima os números partes entre 0 e 50, pulando os números múltiplos de 4. Use o comando ```continue```."
      ]
    },
    {
      "cell_type": "code",
      "metadata": {
        "id": "Hq2Ax7SF06vI",
        "colab_type": "code",
        "outputId": "2c705d9c-57ab-4240-bc43-708c908fd1bb",
        "colab": {
          "base_uri": "https://localhost:8080/",
          "height": 237
        }
      },
      "source": [
        "for i in range(50):\n",
        "  if i%4 == 0:\n",
        "    continue  \n",
        "  elif i%2 == 0:\n",
        "    print(i)"
      ],
      "execution_count": 0,
      "outputs": [
        {
          "output_type": "stream",
          "text": [
            "2\n",
            "6\n",
            "10\n",
            "14\n",
            "18\n",
            "22\n",
            "26\n",
            "30\n",
            "34\n",
            "38\n",
            "42\n",
            "46\n"
          ],
          "name": "stdout"
        }
      ]
    },
    {
      "cell_type": "markdown",
      "metadata": {
        "id": "VgI3cnsq06vR",
        "colab_type": "text"
      },
      "source": [
        "## Combinando múltiplas estruturas de repetição"
      ]
    },
    {
      "cell_type": "markdown",
      "metadata": {
        "id": "_lEMqysg06vT",
        "colab_type": "text"
      },
      "source": [
        "Assim como vimos para estruturas de decisão, também podemos combinar estruturas de repetição em múltiplos níveis. \n",
        "\n",
        "As regras básicas para **aninhar estruturas de repetição** em Python são:\n",
        "* Não há limite com relação a quantas estruturas e em quantos níveis.\n",
        "* Blocos de níveis mais profundos devem apresentar maior grau de identação.\n",
        "* Os efeitos dos comandos ```break``` e ```continue``` se limitam ao nível atual.\n",
        "\n",
        "O exemplo abaixo mostra como imprimir uma matriz identidade. Note que a função ```print``` pode ser usada para imprimir várias vezes em uma mesma linha, utilizando pra isso a opção ```end```."
      ]
    },
    {
      "cell_type": "code",
      "metadata": {
        "id": "rRjJhd2h06vX",
        "colab_type": "code",
        "outputId": "7d315101-ddd3-4af6-f658-29fa5b74872a",
        "colab": {
          "base_uri": "https://localhost:8080/",
          "height": 72
        }
      },
      "source": [
        "for i in range(3):\n",
        "    for j in range(3):\n",
        "        if i == j:\n",
        "            print(\" 1 \", end='')\n",
        "        else:\n",
        "            print(\" 0 \", end='')\n",
        "    print()"
      ],
      "execution_count": 0,
      "outputs": [
        {
          "output_type": "stream",
          "text": [
            " 1  0  0 \n",
            " 0  1  0 \n",
            " 0  0  1 \n"
          ],
          "name": "stdout"
        }
      ]
    },
    {
      "cell_type": "markdown",
      "metadata": {
        "collapsed": true,
        "id": "y9P7R9ux06vg",
        "colab_type": "text"
      },
      "source": [
        "## Exercícios do URI"
      ]
    },
    {
      "cell_type": "markdown",
      "metadata": {
        "collapsed": true,
        "id": "NWePB8lM06vi",
        "colab_type": "text"
      },
      "source": [
        "[1080](https://www.urionlinejudge.com.br/judge/pt/problems/view/1080) - Calcular estatísticas é uma importante tarefa dos sistema de computação que trabalham com análise de dados. Em um roteiro anterior, você implementou uma função para uso em histogramas, que informava a qual intervalo um elemento pertencia.\n",
        "\n",
        "Neste exercício, você vai voltar pro mundo real e de fato preparar um histograma dos dados (colher de chá: não precisa gerar o gráfico no final).\n",
        "\n",
        "Escreva um código Python que receba um inteiro informando quantos números no intervalo \\[0,100\\) serão informados a seguir. Considerando 5 subintervalos de igual tamanho, seu programa deverá calcular a frequência de elementos presentes em cada subintervalo.\n",
        "\n",
        "Por fim, seu programa deverá informar os elementos máximo e mínimo encontrados nos dados, e suas posições na sequência dos dados de entrada."
      ]
    },
    {
      "cell_type": "markdown",
      "metadata": {
        "id": "JqSmfP6906vn",
        "colab_type": "text"
      },
      "source": [
        "|.| Entrada | Saída |\n",
        "|-|:----:|---|\n",
        "| *Exemplo 1* | 5<br/>100<br/>40<br/>32<br/>87<br/>90 | \\[0,20\\) - 1 <br/> \\[20,40\\) - 1 <br/> \\[40,60\\) - 1 <br/> \\[60,80\\) - 0 <br/> \\[80,100\\) - 3  <br/> Máximo: 100 (0) <br/> Mínimo: 32 (2) | \n",
        "| *Exemplo 2* | 3<br/>12<br/>29<br/>45 | \\[0,20\\) - 1 <br/> \\[20,40\\) - 1 <br/> \\[40,60\\) - 1 <br/> \\[60,80\\) - 0 <br/> \\[80,100\\) - 0  <br/> Máximo: 45 (2) <br/> Mínimo: 12 (0) | \n",
        "| *Exemplo 3* | 7<br/>13<br/>88<br/>45<br/>63<br/>94<br/>27<br/>5 | \\[0,20\\) - 1 <br/> \\[20,40\\) - 1 <br/> \\[40,60\\) - 1 <br/> \\[60,80\\) - 1 <br/> \\[80,100\\) - 2  <br/> Máximo: 94 (4) <br/> Mínimo: 5 (6) | \n"
      ]
    },
    {
      "cell_type": "code",
      "metadata": {
        "id": "EKtzl0WFiFFv",
        "colab_type": "code",
        "outputId": "0e0571a3-8fef-48de-d50e-0b61bd5e9c31",
        "colab": {
          "base_uri": "https://localhost:8080/",
          "height": 219
        }
      },
      "source": [
        "#ENTRADA\n",
        "z = int(input(\"Quantos números serão inseridos - intervalo [0,100)? \"))\n",
        "\n",
        "#EXEMPLOS\n",
        "#a = [0,20)\n",
        "#b = [20,40)\n",
        "#c = [40,60)\n",
        "#d = [60,80)\n",
        "#e = [80,100)\n",
        "\n",
        "#BASE DE VARIÁVEIS\n",
        "a = 0\n",
        "b = 0\n",
        "c = 0\n",
        "d = 0\n",
        "e = 0\n",
        "\n",
        "#TESTES\n",
        "for n_entrada in range(0,z,1):\n",
        "  x = int(input(\"Digite um valor: \"))\n",
        "  if x >= 0 and x < 20:       #[0,20)\n",
        "    a += 1                      \n",
        "    if n_entrada == 0:          #DEFININDO O PRIMEIRO VALOR MÍNIMO\n",
        "      minimo = x                  #DEFININDO O PRIMEIRO VALOR MÍNIMO\n",
        "      n_minimo = n_entrada        #DEFININDO O PRIMEIRO NÚMERO DE ENTRADA MÍNIMO\n",
        "    elif n_entrada == 1:        #DESCOBRINDO O PRIMEIRO VALOR MÁXIMO\n",
        "      if x < minimo:              #DEFININDO, PRIMEIRO, UM -----POSSÍVEL----- NOVO VALOR MÍNIMO\n",
        "        novominimo = x              #ATRIBUINDO O VALOR A UM NOVO VALOR MÍNIMO ANTES DE ALTERAR O ANTIGO VALOR MÍNIMO\n",
        "        maximo = minimo             #DIZENDO QUE O ANTIGO VALOR MÍNIMO É, AGORA, O PRIMEIRO VALOR MÁXIMO\n",
        "        n_maximo = n_minimo         #DIZENDO QUE O ANTIGO NÚMERO DE ENTRADA MÍNIMO É, AGORA, O NÚMERO DE ENTRADA MÁXIMO\n",
        "        minimo = novominimo         #TRAZENDO A VARIÁVEL ADAPTADA \"NOVOMÍNIMO\" À VARIÁVEL DEFINITIVA \"MÍNIMO\"\n",
        "        n_minimo = n_entrada        #DIZENDDO QUE O NÚMERO DE ENTRADA ATUAL É O NOVO NÚMERO DE ENTRADA MÍNIMO\n",
        "      elif x > minimo:            #DEFININDO -----COM CERTEZA----- O PRIMEIRO VALOR MÁXIMO\n",
        "        maximo = x          \n",
        "        n_maximo = n_entrada\n",
        "    elif x < minimo:            #DEFININDO MÍNIMOS SUBSEQUENTES\n",
        "      minimo = x                \n",
        "      n_minimo = n_entrada\n",
        "    elif x > minimo and x < maximo:\n",
        "      continue                    #VALORES QUE NÃO IMPORTAM POIS NÃO DEFINEM NEM NOVOS MÁXIMOS E NEM NOVOS MÍNIMOS (JÁ ESTAMOS CONTANDOS AS ENTRADAS, ENTÃO NÃO IMPORTAM MESMO) \n",
        "    elif x > maximo:            #DEFININDO MÁXIMOS SUBSEQUENTES\n",
        "      maximo = x\n",
        "      n_maximo = n_entrada\n",
        "    else:\n",
        "        print(\"ERRO!\")          #POR SEGURANÇA, SE ALGO DER ERRADO\n",
        "  elif x >= 20 and x < 40:    #[20,40)\n",
        "    b += 1\n",
        "    if n_entrada == 0:          #DEFININDO O PRIMEIRO VALOR MÍNIMO\n",
        "      minimo = x                  #DEFININDO O PRIMEIRO VALOR MÍNIMO\n",
        "      n_minimo = n_entrada        #DEFININDO O PRIMEIRO NÚMERO DE ENTRADA MÍNIMO\n",
        "    elif n_entrada == 1:        #DESCOBRINDO O PRIMEIRO VALOR MÁXIMO\n",
        "      if x < minimo:              #DEFININDO, PRIMEIRO, UM -----POSSÍVEL----- NOVO VALOR MÍNIMO\n",
        "        novominimo = x              #ATRIBUINDO O VALOR A UM NOVO VALOR MÍNIMO ANTES DE ALTERAR O ANTIGO VALOR MÍNIMO\n",
        "        maximo = minimo             #DIZENDO QUE O ANTIGO VALOR MÍNIMO É, AGORA, O PRIMEIRO VALOR MÁXIMO\n",
        "        n_maximo = n_minimo         #DIZENDO QUE O ANTIGO NÚMERO DE ENTRADA MÍNIMO É, AGORA, O NÚMERO DE ENTRADA MÁXIMO\n",
        "        minimo = novominimo         #TRAZENDO A VARIÁVEL ADAPTADA \"NOVOMÍNIMO\" À VARIÁVEL DEFINITIVA \"MÍNIMO\"\n",
        "        n_minimo = n_entrada        #DIZENDDO QUE O NÚMERO DE ENTRADA ATUAL É O NOVO NÚMERO DE ENTRADA MÍNIMO\n",
        "      elif x > minimo:            #DEFININDO -----COM CERTEZA----- O PRIMEIRO VALOR MÁXIMO\n",
        "        maximo = x          \n",
        "        n_maximo = n_entrada\n",
        "    elif x < minimo:            #DEFININDO MÍNIMOS SUBSEQUENTES\n",
        "      minimo = x                \n",
        "      n_minimo = n_entrada\n",
        "    elif x > minimo and x < maximo:\n",
        "      continue                    #VALORES QUE NÃO IMPORTAM POIS NÃO DEFINEM NEM NOVOS MÁXIMOS E NEM NOVOS MÍNIMOS (JÁ ESTAMOS CONTANDOS AS ENTRADAS, ENTÃO NÃO IMPORTAM MESMO) \n",
        "    elif x > maximo:            #DEFININDO MÁXIMOS SUBSEQUENTES\n",
        "      maximo = x\n",
        "      n_maximo = n_entrada\n",
        "    else:\n",
        "        print(\"ERRO!\")          #POR SEGURANÇA, SE ALGO DER ERRADO\n",
        "  elif x >= 40 and x < 60:    #[40,60)\n",
        "    c += 1\n",
        "    if n_entrada == 0:          #DEFININDO O PRIMEIRO VALOR MÍNIMO\n",
        "      minimo = x                  #DEFININDO O PRIMEIRO VALOR MÍNIMO\n",
        "      n_minimo = n_entrada        #DEFININDO O PRIMEIRO NÚMERO DE ENTRADA MÍNIMO\n",
        "    elif n_entrada == 1:        #DESCOBRINDO O PRIMEIRO VALOR MÁXIMO\n",
        "      if x < minimo:              #DEFININDO, PRIMEIRO, UM -----POSSÍVEL----- NOVO VALOR MÍNIMO\n",
        "        novominimo = x              #ATRIBUINDO O VALOR A UM NOVO VALOR MÍNIMO ANTES DE ALTERAR O ANTIGO VALOR MÍNIMO\n",
        "        maximo = minimo             #DIZENDO QUE O ANTIGO VALOR MÍNIMO É, AGORA, O PRIMEIRO VALOR MÁXIMO\n",
        "        n_maximo = n_minimo         #DIZENDO QUE O ANTIGO NÚMERO DE ENTRADA MÍNIMO É, AGORA, O NÚMERO DE ENTRADA MÁXIMO\n",
        "        minimo = novominimo         #TRAZENDO A VARIÁVEL ADAPTADA \"NOVOMÍNIMO\" À VARIÁVEL DEFINITIVA \"MÍNIMO\"\n",
        "        n_minimo = n_entrada        #DIZENDDO QUE O NÚMERO DE ENTRADA ATUAL É O NOVO NÚMERO DE ENTRADA MÍNIMO\n",
        "      elif x > minimo:            #DEFININDO -----COM CERTEZA----- O PRIMEIRO VALOR MÁXIMO\n",
        "        maximo = x          \n",
        "        n_maximo = n_entrada\n",
        "    elif x < minimo:            #DEFININDO MÍNIMOS SUBSEQUENTES\n",
        "      minimo = x                \n",
        "      n_minimo = n_entrada\n",
        "    elif x > minimo and x < maximo:\n",
        "      continue                    #VALORES QUE NÃO IMPORTAM POIS NÃO DEFINEM NEM NOVOS MÁXIMOS E NEM NOVOS MÍNIMOS (JÁ ESTAMOS CONTANDOS AS ENTRADAS, ENTÃO NÃO IMPORTAM MESMO) \n",
        "    elif x > maximo:            #DEFININDO MÁXIMOS SUBSEQUENTES\n",
        "      maximo = x\n",
        "      n_maximo = n_entrada\n",
        "    else:\n",
        "        print(\"ERRO!\")          #POR SEGURANÇA, SE ALGO DER ERRADO\n",
        "  elif x >= 60 and x < 80:    #[60,80)\n",
        "    d += 1\n",
        "    if n_entrada == 0:          #DEFININDO O PRIMEIRO VALOR MÍNIMO\n",
        "      minimo = x                  #DEFININDO O PRIMEIRO VALOR MÍNIMO\n",
        "      n_minimo = n_entrada        #DEFININDO O PRIMEIRO NÚMERO DE ENTRADA MÍNIMO\n",
        "    elif n_entrada == 1:        #DESCOBRINDO O PRIMEIRO VALOR MÁXIMO\n",
        "      if x < minimo:              #DEFININDO, PRIMEIRO, UM -----POSSÍVEL----- NOVO VALOR MÍNIMO\n",
        "        novominimo = x              #ATRIBUINDO O VALOR A UM NOVO VALOR MÍNIMO ANTES DE ALTERAR O ANTIGO VALOR MÍNIMO\n",
        "        maximo = minimo             #DIZENDO QUE O ANTIGO VALOR MÍNIMO É, AGORA, O PRIMEIRO VALOR MÁXIMO\n",
        "        n_maximo = n_minimo         #DIZENDO QUE O ANTIGO NÚMERO DE ENTRADA MÍNIMO É, AGORA, O NÚMERO DE ENTRADA MÁXIMO\n",
        "        minimo = novominimo         #TRAZENDO A VARIÁVEL ADAPTADA \"NOVOMÍNIMO\" À VARIÁVEL DEFINITIVA \"MÍNIMO\"\n",
        "        n_minimo = n_entrada        #DIZENDDO QUE O NÚMERO DE ENTRADA ATUAL É O NOVO NÚMERO DE ENTRADA MÍNIMO\n",
        "      elif x > minimo:            #DEFININDO -----COM CERTEZA----- O PRIMEIRO VALOR MÁXIMO\n",
        "        maximo = x          \n",
        "        n_maximo = n_entrada\n",
        "    elif x < minimo:            #DEFININDO MÍNIMOS SUBSEQUENTES\n",
        "      minimo = x                \n",
        "      n_minimo = n_entrada\n",
        "    elif x > minimo and x < maximo:\n",
        "      continue                    #VALORES QUE NÃO IMPORTAM POIS NÃO DEFINEM NEM NOVOS MÁXIMOS E NEM NOVOS MÍNIMOS (JÁ ESTAMOS CONTANDOS AS ENTRADAS, ENTÃO NÃO IMPORTAM MESMO) \n",
        "    elif x > maximo:            #DEFININDO MÁXIMOS SUBSEQUENTES\n",
        "      maximo = x\n",
        "      n_maximo = n_entrada\n",
        "    else:\n",
        "        print(\"ERRO!\")          #POR SEGURANÇA, SE ALGO DER ERRADO\n",
        "  elif x >= 80 and x < 100:   #[80,100)\n",
        "    e += 1\n",
        "    if n_entrada == 0:          #DEFININDO O PRIMEIRO VALOR MÍNIMO\n",
        "      minimo = x                  #DEFININDO O PRIMEIRO VALOR MÍNIMO\n",
        "      n_minimo = n_entrada        #DEFININDO O PRIMEIRO NÚMERO DE ENTRADA MÍNIMO\n",
        "    elif n_entrada == 1:        #DESCOBRINDO O PRIMEIRO VALOR MÁXIMO\n",
        "      if x < minimo:              #DEFININDO, PRIMEIRO, UM -----POSSÍVEL----- NOVO VALOR MÍNIMO\n",
        "        novominimo = x              #ATRIBUINDO O VALOR A UM NOVO VALOR MÍNIMO ANTES DE ALTERAR O ANTIGO VALOR MÍNIMO\n",
        "        maximo = minimo             #DIZENDO QUE O ANTIGO VALOR MÍNIMO É, AGORA, O PRIMEIRO VALOR MÁXIMO\n",
        "        n_maximo = n_minimo         #DIZENDO QUE O ANTIGO NÚMERO DE ENTRADA MÍNIMO É, AGORA, O NÚMERO DE ENTRADA MÁXIMO\n",
        "        minimo = novominimo         #TRAZENDO A VARIÁVEL ADAPTADA \"NOVOMÍNIMO\" À VARIÁVEL DEFINITIVA \"MÍNIMO\"\n",
        "        n_minimo = n_entrada        #DIZENDDO QUE O NÚMERO DE ENTRADA ATUAL É O NOVO NÚMERO DE ENTRADA MÍNIMO\n",
        "      elif x > minimo:            #DEFININDO -----COM CERTEZA----- O PRIMEIRO VALOR MÁXIMO\n",
        "        maximo = x          \n",
        "        n_maximo = n_entrada\n",
        "    elif x < minimo:            #DEFININDO MÍNIMOS SUBSEQUENTES\n",
        "      minimo = x                \n",
        "      n_minimo = n_entrada\n",
        "    elif x > minimo and x < maximo:\n",
        "      continue                    #VALORES QUE NÃO IMPORTAM POIS NÃO DEFINEM NEM NOVOS MÁXIMOS E NEM NOVOS MÍNIMOS (JÁ ESTAMOS CONTANDOS AS ENTRADAS, ENTÃO NÃO IMPORTAM MESMO) \n",
        "    elif x > maximo:            #DEFININDO MÁXIMOS SUBSEQUENTES\n",
        "      maximo = x\n",
        "      n_maximo = n_entrada\n",
        "    else:\n",
        "        print(\"ERRO!\")          #POR SEGURANÇA, SE ALGO DER ERRADO\n",
        "\n",
        "#IMPRESSÃO\n",
        "print(\"[0,20) -\", a)\n",
        "print(\"[20,40) -\", b)\n",
        "print(\"[40,60) -\", c)\n",
        "print(\"[60,80) -\", d)\n",
        "print(\"[80,100) -\", e)\n",
        "print(\"Máximo:\", maximo, \"(\", n_maximo, \")\")\n",
        "print(\"Mínimo:\", minimo, \"(\", n_minimo, \")\")"
      ],
      "execution_count": 0,
      "outputs": [
        {
          "output_type": "stream",
          "text": [
            "Quantos números serão inseridos - intervalo [0,100)? 3\n",
            "Digite um valor: 12\n",
            "Digite um valor: 29\n",
            "Digite um valor: 45\n",
            "[0,20) - 1\n",
            "[20,40) - 1\n",
            "[40,60) - 1\n",
            "[60,80) - 0\n",
            "[80,100) - 0\n",
            "Máximo: 45 ( 2 )\n",
            "Mínimo: 12 ( 0 )\n"
          ],
          "name": "stdout"
        }
      ]
    },
    {
      "cell_type": "markdown",
      "metadata": {
        "collapsed": true,
        "id": "FZm66fZB06vp",
        "colab_type": "text"
      },
      "source": [
        "[1164](https://www.urionlinejudge.com.br/judge/pt/problems/view/1164) - Um número **perfeito** é um número igual à soma dos seus divisores (exceto ele mesmo).\n",
        "\n",
        "O número 28 é um exemplo de número perfeito: 28 = 1 + 2 + 4 + 7 + 14.\n",
        "\n",
        "[1165](https://www.urionlinejudge.com.br/judge/pt/problems/view/1165) - Um número **primo** é um número que só pode ser dividido por 1 e por ele mesmo. \n",
        "\n",
        "O número 17, por exemplo, só pode ser dividido por 1 e por 17.\n",
        "\n",
        "Escreva um código Python que receba um inteiro N e imprima os números do intervalo [1,N] que são primos ou perfeitos."
      ]
    },
    {
      "cell_type": "markdown",
      "metadata": {
        "collapsed": true,
        "id": "gY6XoSeF06vt",
        "colab_type": "text"
      },
      "source": [
        "|.| Entrada | Saída |\n",
        "|-|:-:|:-|\n",
        "| *Exemplo 1* | 10 | 1 2 3 5 6 7 10 | \n",
        "| *Exemplo 2* | 15 | 1 2 3 5 6 7 10 11 13 |\n",
        "| *Exemplo 3* | 20 | 1 2 3 5 6 7 10 11 13 17 19 |"
      ]
    },
    {
      "cell_type": "code",
      "metadata": {
        "id": "6_Ee2-KZhlpC",
        "colab_type": "code",
        "outputId": "f53cfe4f-048c-4bf4-a0de-5fb91ef4aa98",
        "colab": {
          "base_uri": "https://localhost:8080/",
          "height": 54
        }
      },
      "source": [
        "#ENTRADA\n",
        "x = int(input(\"Digite um valor limite 'x' para imprimir os números primos no intervalo [1,x] : \"))\n",
        "\n",
        "#VARIÁVEIS DE CONTROLE\n",
        " #Primo\n",
        "  #sim: 1\n",
        "  #não: 0\n",
        "primo = 0\n",
        " #Perfeito\n",
        "  #Caixa de somas dos divisores dos números perfeitos (CSNP)\n",
        "caixa_soma_per = 0\n",
        "\n",
        "#NÚMEROS PRIMOS\n",
        "for valor1 in range(1,x+1,1):                      #Intervalo a ser analisado e escolhido um Valor Unitário (VU) para teste.\n",
        "  for valor_div in range(1,valor1,1):                #Testando se, dividindo o VU por números menores, ele só é divisível por 1 e ele mesmo.\n",
        "    if valor1 == 2:                                    #Se o VU for 2...\n",
        "      primo = 1                                          #Dizemos logo que ele é primo e...\n",
        "      break                                              #... paramos o teste.\n",
        "    elif valor_div > 1:                                #Como todo número é divisível por 1, pulo logo ele para evitar confusão.\n",
        "      if valor1 % valor_div != 0:                        #Enquanto a divisão do VU der resultados inexatos...\n",
        "        primo = 1                                          #... ele será primo.\n",
        "      elif valor1 % valor_div == 0:                      #Mas se, em algum momento, for divisível...\n",
        "        primo = 0                                          #... ele não é primo...\n",
        "        break                                              #... então, pare o teste que já sabemos que ele não é primo.\n",
        "  if primo == 1:                                     #Se ele tiver se mostrado primo...\n",
        "    print(valor1, \" \", end='')                         #... imprima-o.\n",
        "#NÚMEROS PERFEITOS\n",
        "  else:                                              #Se foi um número primo e o imprimimos, nem preciso ver se o mesmo é perfeito. Se não for primo, vamos testar ainda se não é perfeito.\n",
        "    for valor_div in range(1,valor1,1):                #Abro novamente um teste específico para saber se é perfeito. \n",
        "      if valor1 % valor_div == 0:                        #Se o valor da rodada teste for um divisor do VU...\n",
        "        caixa_soma_per += valor_div                        #... ele será jogado na caixa de divisores (CSNP)\n",
        "    if caixa_soma_per == valor1:                       #Se a soma dos valores contidos no CSNP for igual ao VU, então ele é considerado um Número Perfeito.\n",
        "      print(valor1, \" \", end='')                         #Então, imprimo-o.\n",
        "      caixa_soma_per = 0                                 #Em seguida, já zero o contador CSNP.\n",
        "    if caixa_soma_per != valor1:                       #Se a soma dos valores contidos no CSNP for diferente ao VU, então ele NÃO é considerado um Número Perfeito.\n",
        "      caixa_soma_per = 0                                 #Então, não imprimo-o, apenas zero o contador CSNP."
      ],
      "execution_count": 0,
      "outputs": [
        {
          "output_type": "stream",
          "text": [
            "Digite um valor limite 'x' para imprimir os números primos no intervalo [1,x] : 20\n",
            "2  3  5  6  7  11  13  17  19  "
          ],
          "name": "stdout"
        }
      ]
    },
    {
      "cell_type": "markdown",
      "metadata": {
        "collapsed": true,
        "id": "Yj8IwEcS06v5",
        "colab_type": "text"
      },
      "source": [
        "[1789](https://www.urionlinejudge.com.br/judge/pt/problems/view/1789) - Jogos de corrida utilizam simulações baseadas nas regras da física para trazer realismo à experiência do usuário.\n",
        "\n",
        "Neste exercício, você deve simular uma das regras mais simples da mecânica clássica, que mostra que a distância percorrida por um objeto é proporcional à sua velocidade.\n",
        "\n",
        "Neste jogo serão 3 corredores, cada um com uma velocidade dada por um número real sorteado no intervalo [0,100) m/s.\n",
        "\n",
        "Considere que todos os competidores partem do mesmo lugar e apresente a posição de cada corredor atualizada segundo a segundo.\n",
        "\n",
        "Considere ainda que a linha de chegada está a 482m de distância do ponto de partida e encerre a corrida quando o vencedor cruzar a linha, identificando o vencedor.\n",
        "\n",
        "** Dica --** Para gerar um número real aleatório no intervalo [0,100), utilize a função ```uniform(0,100)```."
      ]
    },
    {
      "cell_type": "markdown",
      "metadata": {
        "collapsed": true,
        "id": "DGYbPNBf06v9",
        "colab_type": "text"
      },
      "source": [
        "|.| Velocidades | Saída |\n",
        "|-|:-:|:-|\n",
        "| *Exemplo 1* | 15.38<br/>55.49<br/>48.65  | 15.38 55.49 48.65 <br/> 30.76 110.98 97.30 <br/> 46.14 166.47 145.95 <br/> 61.52 221.96 194.60 <br/> 76.90 277.45 243.25 <br/> 92.28 332.94 291.90 <br/> 107.66 388.43 340.55 <br/> 123.04 443.92 389.20 <br/> 138.42 499.41 437.85 <br/> P2 | \n",
        "| *Exemplo 2* | 42.27<br/>95.26<br/>72.25 | 42.27 95.26 72.25 <br/> 84.54 190.52 144.50 <br/> 126.81 285.78 216.75 <br/> 169.08 381.04 289.00 <br/> 211.35 476.30 361.25 <br/> 253.62 571.56 433.50 <br/> P2 |\n",
        "| *Exemplo 3* | 98.76<br/>93.21<br/>96.65 | 98.76 93.21 96.65 <br/> 197.52 186.42 193.30 <br/> 296.28 279.63 289.95 <br/> 395.04 372.84 386.60 <br/> 493.80 466.05 483.25 <br/> P1 |"
      ]
    },
    {
      "cell_type": "code",
      "metadata": {
        "id": "IjsEJV_x06v-",
        "colab_type": "code",
        "outputId": "ac8eb33d-eb04-4df2-84c9-6d10f95f888d",
        "colab": {
          "base_uri": "https://localhost:8080/",
          "height": 256
        }
      },
      "source": [
        "#FUNÇÃO\n",
        "from random import uniform\n",
        "\n",
        "p = 482\n",
        "\n",
        "#GERAÇÃO DE DADOS DE VELOCIDADE\n",
        "c1 = (uniform(0,100))\n",
        "perc_c1 = 0\n",
        "c2 = (uniform(0,100))\n",
        "perc_c2 = 0\n",
        "c3 = (uniform(0,100))\n",
        "perc_c3 = 0\n",
        "\n",
        "#CONTROLE\n",
        "print(\"----- Velocidades ------\")\n",
        "print(\"Corredor 1:\", \"{:.2f}\".format(c1), \"m/s\")\n",
        "print(\"Corredor 2:\", \"{:.2f}\".format(c2), \"m/s\")\n",
        "print(\"Corredor 3:\", \"{:.2f}\".format(c3), \"m/s\")\n",
        "print(\"---- Metros a cada s ---\")\n",
        "\n",
        "#MOVIMENTAÇÃO\n",
        "while True:\n",
        " #Corredor 1\n",
        "  perc_c1 += c1\n",
        "  print(\"{:.2f}\".format(perc_c1), end='')\n",
        "  if perc_c1 < 10:\n",
        "    print(\"  \", end='')\n",
        "  elif perc_c1 >=10 and perc_c1 < 100:\n",
        "    print(\" \", end='')\n",
        "  print(\" | \", end='')\n",
        " #Corredor 2\n",
        "  perc_c2 += c2\n",
        "  print(\"{:.2f}\".format(perc_c2), end='')\n",
        "  if perc_c2 < 10:\n",
        "    print(\"  \", end='')\n",
        "  elif perc_c2 >=10 and perc_c2 < 100:\n",
        "    print(\" \", end='')\n",
        "  print(\" | \", end='')\n",
        " #Corredor 3 \n",
        "  perc_c3 += c3\n",
        "  print(\"{:.2f}\".format(perc_c3))\n",
        "  if perc_c1 >= p or perc_c2 >= p or perc_c3 >= p:\n",
        "    break\n",
        "\n",
        "print(\"------- Ganhador -------\")\n",
        "    \n",
        "if perc_c1 > perc_c2 and perc_c1 > perc_c3:\n",
        "  print(\"{:.2f}\".format(perc_c1), \"C1\")\n",
        "if perc_c2 > perc_c1 and perc_c2 > perc_c3:\n",
        "  print(\"{:.2f}\".format(perc_c2), \"C2\")\n",
        "if perc_c3 > perc_c1 and perc_c3 > perc_c2:\n",
        "  print(\"{:.2f}\".format(perc_c3), \"C3\")"
      ],
      "execution_count": 0,
      "outputs": [
        {
          "output_type": "stream",
          "text": [
            "----- Velocidades ------\n",
            "Corredor 1: 42.39 m/s\n",
            "Corredor 2: 79.20 m/s\n",
            "Corredor 3: 85.78 m/s\n",
            "---- Metros a cada s ---\n",
            "42.39  | 79.20  | 85.78\n",
            "84.77  | 158.41 | 171.56\n",
            "127.16 | 237.61 | 257.34\n",
            "169.54 | 316.82 | 343.12\n",
            "211.93 | 396.02 | 428.90\n",
            "254.31 | 475.23 | 514.67\n",
            "------- Ganhador -------\n",
            "514.67 C3\n"
          ],
          "name": "stdout"
        }
      ]
    },
    {
      "cell_type": "markdown",
      "metadata": {
        "collapsed": true,
        "id": "xPf_2XXL06wC",
        "colab_type": "text"
      },
      "source": [
        "[1828](https://www.urionlinejudge.com.br/judge/pt/problems/view/1828) - Pedra, paper e tesoura, ou じゃんけんぽん (jankenpon), é um jogo simples que envolve apenas quatro regras:\n",
        "\n",
        "- Dois jogadores disputam entre si, podendo escolher entre 3 opções de ação: pedra, papel ou tesoura.\n",
        "- A pedra quebra a tesoura.\n",
        "- A tesoura corta o papel.\n",
        "- O papel embrulha a pedra.\n",
        "\n",
        "Também é possível que não haja um vencedor, quando os dois jogadores escolhem a mesma ação.\n",
        "\n",
        "Escreva um código Python que receba um inteiro informando número de rodadas de uma partida e simule dois jogadores competindo entre si. Você deve imprimir as ações e o vencedor de cada rodada, bem como o vencedor da partida."
      ]
    },
    {
      "cell_type": "markdown",
      "metadata": {
        "id": "o_prwv_N06wD",
        "colab_type": "text"
      },
      "source": [
        "|.| Entrada | Saída |\n",
        "|-|:-:|:-|\n",
        "| *Exemplo 1* | 3  | Jogador 2 <br/> Empate <br/> Jogador 2 <br/> Placar final: 0 x 2 <br/> Partida vencida pelo Jogador 2! | \n",
        "| *Exemplo 2* | 5 | Jogador 1 <br/> Jogador 1 <br/> Empate <br/> Empate <br/> Jogador 1 <br/> Placar final: 3 x 0 <br/> Partida vencida pelo Jogador 1! |\n",
        "| *Exemplo 3* | 4 | Empate <br/> Jogador 2 <br/> Empate <br/> Empate <br/> Placar final: 0 x 1 <br/> Partida vencida pelo Jogador 2! |"
      ]
    },
    {
      "cell_type": "code",
      "metadata": {
        "id": "Eyhz4tjz06wE",
        "colab_type": "code",
        "outputId": "5bc1d7cb-d157-4012-b8ef-d33c4e5be847",
        "colab": {
          "base_uri": "https://localhost:8080/",
          "height": 127
        }
      },
      "source": [
        "#FUNÇÃO\n",
        "from random import randint\n",
        "\n",
        "#1: pedra\n",
        "#2: papel\n",
        "#3: tesoura\n",
        "\n",
        "#ENTRADA\n",
        "x = int(input(\"Digite o número de rodadas: \"))\n",
        "\n",
        "#VARIÁVEIS\n",
        " #Placar\n",
        "pl_jog1 = 0\n",
        "pl_jog2 = 0\n",
        " #Mão do jogador\n",
        "jog1_m = 0\n",
        "jog2_m = 0\n",
        "\n",
        "#ANÁLISE\n",
        "for rodada in range(1,x+1,1):\n",
        "  jog1_m = randint(1,3)\n",
        "  jog2_m = randint(1,3)\n",
        "  if jog1_m == 1 and jog2_m == 2 or jog1_m == 2 and jog2_m == 1 or jog1_m == 3 and jog2_m == 1:\n",
        "    pl_jog1 += 1\n",
        "    print(\"Jogador 1\")\n",
        "  elif jog1_m == 1 and jog2_m == 1 or jog1_m == 2 and jog2_m == 2 or jog1_m == 3 and jog2_m == 3:\n",
        "    print(\"Empate\")\n",
        "  else:\n",
        "    pl_jog2 += 1\n",
        "    print(\"Jogador 2\")\n",
        "print(\"Placar final:\", pl_jog1, \"x\", pl_jog2)\n",
        "if pl_jog1 > pl_jog2:\n",
        "  print(\"Partida vencida pelo Jogador 1!\")\n",
        "elif pl_jog1 == pl_jog2:\n",
        "  print(\"Partida empatada!\")\n",
        "else:\n",
        "  print(\"Partida vencida pelo Jogador 2!\")"
      ],
      "execution_count": 0,
      "outputs": [
        {
          "output_type": "stream",
          "text": [
            "Digite o número de rodadas: 3\n",
            "Jogador 1\n",
            "Empate\n",
            "Jogador 1\n",
            "Placar final: 2 x 0\n",
            "Partida vencida pelo Jogador 1!\n"
          ],
          "name": "stdout"
        }
      ]
    },
    {
      "cell_type": "markdown",
      "metadata": {
        "id": "3erWzHMu06wS",
        "colab_type": "text"
      },
      "source": [
        "Agora que você já sabe até como criar um jogo de jonkenpon, implemente uma versão em que você pode jogar contra o computador e mostre que você pode derrotá-lo :D"
      ]
    },
    {
      "cell_type": "code",
      "metadata": {
        "id": "K3JRh-hc06wT",
        "colab_type": "code",
        "outputId": "98bada54-2628-4839-dea0-b0dc10d1bc6c",
        "colab": {
          "base_uri": "https://localhost:8080/",
          "height": 476
        }
      },
      "source": [
        "#FUNÇÃO\n",
        "from random import randint\n",
        "\n",
        "#1: pedra\n",
        "#2: papel\n",
        "#3: tesoura\n",
        "\n",
        "#ENTRADA\n",
        "x = int(input(\"Digite o número de rodadas: \"))\n",
        "print(\"------ Instruções --------------\")\n",
        "print(\"Pedra   — digite 1\")\n",
        "print(\"Papel   — digite 2\")\n",
        "print(\"Tesoura — digite 3\")\n",
        "print(\"Jogador 1: você\")\n",
        "print(\"Jogador 2: computador\")\n",
        "print(\"--------------------------------\")\n",
        "\n",
        "\n",
        "#VARIÁVEIS\n",
        " #Placar\n",
        "pl_jog1 = 0\n",
        "pl_jog2 = 0\n",
        " #Mão do jogador\n",
        "jog1_m = 0\n",
        "jog2_m = 0\n",
        "\n",
        "#ANÁLISE\n",
        "for rodada in range(1,x+1,1):\n",
        "  print(\"----------- Rodada\", rodada, \"-----------\")\n",
        "  jog1_m = int(input(\"Jogador 1: \"))\n",
        "  jog2_m = randint(1,3)\n",
        "  if jog1_m == 1 and jog2_m == 2 or jog1_m == 2 and jog2_m == 1 or jog1_m == 3 and jog2_m == 1:\n",
        "    pl_jog1 += 1\n",
        "    print(\"Jogador 2:\", jog2_m)\n",
        "    print(\"- Jogador 1 ganha -\")\n",
        "  elif jog1_m == 1 and jog2_m == 1 or jog1_m == 2 and jog2_m == 2 or jog1_m == 3 and jog2_m == 3:\n",
        "    print(\"Jogador 2:\", jog2_m)\n",
        "    print(\"Empate\")\n",
        "  else:\n",
        "    pl_jog2 += 1\n",
        "    print(\"Jogador 2:\", jog2_m)\n",
        "    print(\"- Jogador 2 ganha -\")\n",
        "\n",
        "print(\"--------------------------------\")\n",
        "print(\"--------- Placar Final ---------\")\n",
        "print(\"--------------------------------\")\n",
        "print(\"|Jogador 1|\", pl_jog1, \"x\", pl_jog2, \"|Jogador 2|\")\n",
        "if pl_jog1 > pl_jog2:\n",
        "  print(\"Partida vencida pelo Jogador 1!\")\n",
        "elif pl_jog1 == pl_jog2:\n",
        "  print(\"Partida empatada!\")\n",
        "else:\n",
        "  print(\"Partida vencida pelo Jogador 2!\")"
      ],
      "execution_count": 0,
      "outputs": [
        {
          "output_type": "stream",
          "text": [
            "Digite o número de rodadas: 3\n",
            "------ Instruções --------------\n",
            "Pedra   — digite 1\n",
            "Papel   — digite 2\n",
            "Tesoura — digite 3\n",
            "Jogador 1: você\n",
            "Jogador 2: computador\n",
            "--------------------------------\n",
            "----------- Rodada 1 -----------\n",
            "Jogador 1: 2\n",
            "Jogador 2: 3\n",
            "- Jogador 2 ganha -\n",
            "----------- Rodada 2 -----------\n",
            "Jogador 1: 2\n",
            "Jogador 2: 1\n",
            "- Jogador 1 ganha -\n",
            "----------- Rodada 3 -----------\n",
            "Jogador 1: 2\n",
            "Jogador 2: 1\n",
            "- Jogador 1 ganha -\n",
            "--------------------------------\n",
            "--------- Placar Final ---------\n",
            "--------------------------------\n",
            "|Jogador 1| 2 x 1 |Jogador 2|\n",
            "Partida vencida pelo Jogador 1!\n"
          ],
          "name": "stdout"
        }
      ]
    },
    {
      "cell_type": "markdown",
      "metadata": {
        "id": "BlZRoTvp06wb",
        "colab_type": "text"
      },
      "source": [
        "[Blackjack](https://pt.wikipedia.org/wiki/Blackjack) - Vinte-e-um (21) é um dos mais icônicos jogos de cartas, onde um jogador real compete contra um jogador imaginário (a banca) para ver quem consegue o jogo de maior valor sem estourar o limite de 21 pontos.\n",
        "\n",
        "Por simplicidade, considere apenas as seguintes regras:\n",
        "- Cada jogador pode pedir uma carta por rodada ou dizer que quer parar de pedir.\n",
        "- O jogador que acumular mais de 21 pontos perde a partida.\n",
        "- Se o jogador e a banca atingirem o mesmo número de pontos, a partida termina empatada.\n",
        "- As cartas numéricas valem o número de pontos que elas indicam (ex: 2 vale 2, 10 vale 10).\n",
        "- As cartas de figuras (rei, valete e dama) valem 10 pontos.\n",
        "- O Ás vale 11 pontos.\n",
        "\n",
        "Escreva um código Python que te permite jogar blackjack contra o computador, escrevendo a cada rodada o valor do jogo de cada jogador e, ao final, o vencedor da partida."
      ]
    },
    {
      "cell_type": "code",
      "metadata": {
        "id": "B9qzTNaf06we",
        "colab_type": "code",
        "colab": {
          "base_uri": "https://localhost:8080/",
          "height": 476
        },
        "outputId": "1e054c5b-1ccf-469c-f96c-66df621ca869"
      },
      "source": [
        "#FUNÇÃO\n",
        "from random import randint\n",
        "\n",
        "#MÃO DOS PARTICIPANTES\n",
        "m_jog = 0\n",
        "m_ban = 0\n",
        "carta_jog = 0\n",
        "carta_ban = 0\n",
        "status = \"a\"\n",
        "rodada = 1\n",
        "#Mais uma carta: c\n",
        "#Parar: p\n",
        "\n",
        "#ANÁLISE\n",
        "while True:\n",
        "  print(\"---------- Rodada\", rodada, \"----------\")\n",
        "  status = input(\"Carta ou parar? \")\n",
        "  if status == \"c\":\n",
        "    carta_jog = randint(0,13)\n",
        "    carta_ban = randint(0,13)\n",
        "    if carta_jog == 0 and carta_ban == 0:\n",
        "      m_jog += 11\n",
        "      print(\"Jogador: A\")\n",
        "      m_ban += 11\n",
        "    elif carta_jog == 0 and carta_ban > 0 and carta_ban <= 10:\n",
        "      m_jog += 11\n",
        "      print(\"Jogador: A\")\n",
        "      m_ban += carta_ban\n",
        "    elif carta_jog == 0 and carta_ban > 10:\n",
        "      m_jog += 11\n",
        "      print(\"Jogador: A\")\n",
        "      m_ban += 10\n",
        "    elif carta_jog > 0 and carta_jog <= 10 and carta_ban == 0:\n",
        "      m_jog += carta_jog\n",
        "      print(\"Jogador:\", carta_jog)\n",
        "      m_ban += 11\n",
        "    elif carta_jog > 0 and carta_jog <= 10 and carta_ban > 0 and carta_ban <= 10:\n",
        "      m_jog += carta_jog\n",
        "      print(\"Jogador:\", carta_jog)\n",
        "      m_ban += carta_ban\n",
        "    elif carta_jog > 0 and carta_jog <= 10 and carta_ban > 10:\n",
        "      m_jog += carta_jog\n",
        "      print(\"Jogador:\", carta_jog)\n",
        "      m_ban += 10\n",
        "    elif carta_jog > 10 and carta_ban == 0:\n",
        "      m_jog += 10\n",
        "      if carta_jog == 11:\n",
        "        print(\"Jogador: J\")\n",
        "      elif carta_jog == 12:\n",
        "        print(\"Jogador: Q\")\n",
        "      elif carta_jog == 13:\n",
        "        print(\"Jogador: K\")\n",
        "        m_ban += 11\n",
        "    elif carta_jog > 10 and carta_ban > 0 and carta_ban <= 10:\n",
        "      m_jog += 10\n",
        "      if carta_jog == 11:\n",
        "        print(\"Jogador: J\")\n",
        "      elif carta_jog == 12:\n",
        "        print(\"Jogador: Q\")\n",
        "      elif carta_jog == 13:\n",
        "        print(\"Jogador: K\")\n",
        "      m_ban += carta_ban\n",
        "    elif carta_jog > 10 and carta_ban > 10:\n",
        "      m_jog += 10\n",
        "      if carta_jog == 11:\n",
        "        print(\"Jogador: J\")\n",
        "      elif carta_jog == 12:\n",
        "        print(\"Jogador: Q\")\n",
        "      elif carta_jog == 13:\n",
        "        print(\"Jogador: K\")\n",
        "        m_ban += 10  \n",
        "    print(\"Mão do Jogador:\", m_jog)\n",
        "    rodada += 1\n",
        "  if status == \"p\":\n",
        "    break\n",
        "  if m_jog == 21:\n",
        "    break\n",
        "  if m_jog > 21:\n",
        "    break\n",
        "print(\"---------- Resultado ----------\")\n",
        "if m_jog == 21:\n",
        "  print(\"Jogador\", m_jog, \"x\", m_ban, \"Banca\")\n",
        "  print(\"Jogador ganhou!\")\n",
        "elif m_jog > 21:\n",
        "  print(\"Jogador\", m_jog, \"x\", m_ban, \"Banca\")\n",
        "  print(\"Banca ganhou!\")\n",
        "elif status == \"p\":\n",
        "  if m_ban > m_jog and m_ban <= 21:\n",
        "    print(\"Jogador\", m_jog, \"x\", m_ban, \"Banca\")\n",
        "    print(\"Banca ganhou!\")\n",
        "  elif m_jog > m_ban and m_jog <=21:\n",
        "    print(\"Jogador\", m_jog, \"x\", m_ban, \"Banca\")\n",
        "    print(\"Jogador ganhou!\")\n",
        "  elif m_ban > m_jog and m_ban > 21:\n",
        "    print(\"Jogador\", m_jog, \"x\", m_ban, \"Banca\")\n",
        "    print(\"Jogador ganhou!\")"
      ],
      "execution_count": 15,
      "outputs": [
        {
          "output_type": "stream",
          "text": [
            "---------- Rodada 1 ----------\n",
            "Carta ou parar? c\n",
            "Jogador: 1\n",
            "Mão do Jogador: 1\n",
            "---------- Rodada 2 ----------\n",
            "Carta ou parar? c\n",
            "Jogador: J\n",
            "Mão do Jogador: 11\n",
            "---------- Rodada 3 ----------\n",
            "Carta ou parar? c\n",
            "Jogador: 3\n",
            "Mão do Jogador: 14\n",
            "---------- Rodada 4 ----------\n",
            "Carta ou parar? c\n",
            "Jogador: 2\n",
            "Mão do Jogador: 16\n",
            "---------- Rodada 5 ----------\n",
            "Carta ou parar? c\n",
            "Jogador: 3\n",
            "Mão do Jogador: 19\n",
            "---------- Rodada 6 ----------\n",
            "Carta ou parar? p\n",
            "---------- Resultado ----------\n",
            "Jogador 19 x 41 Banca\n",
            "Jogador ganhou!\n"
          ],
          "name": "stdout"
        }
      ]
    }
  ]
}