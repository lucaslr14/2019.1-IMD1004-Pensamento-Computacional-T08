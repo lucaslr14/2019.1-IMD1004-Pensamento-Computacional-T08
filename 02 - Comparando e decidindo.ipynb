{
  "nbformat": 4,
  "nbformat_minor": 0,
  "metadata": {
    "colab": {
      "name": "02 - Comparando e decidindo.ipynb",
      "version": "0.3.2",
      "provenance": [],
      "collapsed_sections": [],
      "include_colab_link": true
    },
    "language_info": {
      "codemirror_mode": {
        "name": "ipython",
        "version": 3
      },
      "file_extension": ".py",
      "mimetype": "text/x-python",
      "name": "python",
      "nbconvert_exporter": "python",
      "pygments_lexer": "ipython3",
      "version": "3.6.7"
    },
    "kernelspec": {
      "display_name": "Python 3",
      "language": "python",
      "name": "python3"
    }
  },
  "cells": [
    {
      "cell_type": "markdown",
      "metadata": {
        "id": "view-in-github",
        "colab_type": "text"
      },
      "source": [
        "<a href=\"https://colab.research.google.com/github/lucaslr14/2019.1-IMD1004-Pensamento-Computacional-T08/blob/master/02%3A%20Comparando%20e%20decidindo.ipynb\" target=\"_parent\"><img src=\"https://colab.research.google.com/assets/colab-badge.svg\" alt=\"Open In Colab\"/></a>"
      ]
    },
    {
      "cell_type": "markdown",
      "metadata": {
        "id": "x4r4IOTcs-Ti",
        "colab_type": "text"
      },
      "source": [
        "<small><small><i>\n",
        "Este notebook foi baseado nos notebooks disponíveis em [https://gitlab.erc.monash.edu.au/andrease/Python4Maths.git]\n",
        "</i></small></small>"
      ]
    },
    {
      "cell_type": "markdown",
      "metadata": {
        "id": "7QtCJMBYs-Tt",
        "colab_type": "text"
      },
      "source": [
        "# Comparando e decidindo\n",
        "\n",
        "Python permite comparar os valores associados a diferentes variáveis usando **operadores de comparação**. \n",
        "\n",
        "Expressões que contêm operadores de comparação são chamadas **expressões lógicas** e podem ser usadas em **estruturas de decisão** para decidir o que o seu código deve fazer. \n",
        "\n",
        "Neste roteiro, você aprenderá a utilizar estes conceitos da linguagem Python.\n",
        "\n",
        "## Operadores de comparação\n",
        "\n",
        "Operadores de comparação são utilizados para construir **expressões lógicas**. \n",
        "\n",
        "As regras básicas sobre expressões lógicas em Python são:\n",
        "\n",
        "* Expressões lógicas são avaliadas como verdadeiras (**True**) ou falsas (**False**).\n",
        "* Todos os operadores de comparação em Python têm precedência igual. \n",
        "* Assim como em expressões aritméticas, é possível usar parênteses para mudar a ordem de avaliação de uma expressão.\n",
        "* Caso haja empate de precedência, a expressão é avaliada da esquerda para a direita.\n",
        "\n",
        "Alguns dos operadores de comparação disponíveis em Python estão listados abaixo. "
      ]
    },
    {
      "cell_type": "markdown",
      "metadata": {
        "id": "EAcGjkTIs-Ty",
        "colab_type": "text"
      },
      "source": [
        "| Símbolo | Significado |\n",
        "|:----:|---|\n",
        "| == | Igualdade |\n",
        "| !=  | Diferença |\n",
        "| < | Menor |\n",
        "| > | Maior |\n",
        "| <=  | Menor ou igual |\n",
        "| >=  | Maior ou igual |\n",
        "\n",
        "Note que é diferente usar `==` (comparação de igualdade) e `=` (associação de variável a valor)."
      ]
    },
    {
      "cell_type": "code",
      "metadata": {
        "id": "ifGMcpans-T3",
        "colab_type": "code",
        "outputId": "dfb83a74-66d4-41cd-efbf-48eedca780b8",
        "colab": {
          "base_uri": "https://localhost:8080/",
          "height": 35
        }
      },
      "source": [
        "z = 2\n",
        "z == 2"
      ],
      "execution_count": 0,
      "outputs": [
        {
          "output_type": "execute_result",
          "data": {
            "text/plain": [
              "True"
            ]
          },
          "metadata": {
            "tags": []
          },
          "execution_count": 13
        }
      ]
    },
    {
      "cell_type": "code",
      "metadata": {
        "id": "0cEw1MWUs-UK",
        "colab_type": "code",
        "outputId": "58dfd457-ff1e-4287-8c6e-0e6b82235669",
        "colab": {
          "base_uri": "https://localhost:8080/",
          "height": 35
        }
      },
      "source": [
        "z > 2"
      ],
      "execution_count": 0,
      "outputs": [
        {
          "output_type": "execute_result",
          "data": {
            "text/plain": [
              "False"
            ]
          },
          "metadata": {
            "tags": []
          },
          "execution_count": 2
        }
      ]
    },
    {
      "cell_type": "code",
      "metadata": {
        "id": "IbdBAlP0s-Ua",
        "colab_type": "code",
        "outputId": "a710870f-969f-4996-a091-3619ad617dbb",
        "colab": {
          "base_uri": "https://localhost:8080/",
          "height": 35
        }
      },
      "source": [
        "z <= 2"
      ],
      "execution_count": 0,
      "outputs": [
        {
          "output_type": "execute_result",
          "data": {
            "text/plain": [
              "True"
            ]
          },
          "metadata": {
            "tags": []
          },
          "execution_count": 3
        }
      ]
    },
    {
      "cell_type": "code",
      "metadata": {
        "scrolled": true,
        "id": "qeoN1iqSs-Uo",
        "colab_type": "code",
        "outputId": "1edebd0c-9f41-4473-e1e2-ce8830954ca3",
        "colab": {
          "base_uri": "https://localhost:8080/",
          "height": 35
        }
      },
      "source": [
        "z != 2"
      ],
      "execution_count": 0,
      "outputs": [
        {
          "output_type": "execute_result",
          "data": {
            "text/plain": [
              "False"
            ]
          },
          "metadata": {
            "tags": []
          },
          "execution_count": 4
        }
      ]
    },
    {
      "cell_type": "markdown",
      "metadata": {
        "id": "EwF5gvRTs-Uz",
        "colab_type": "text"
      },
      "source": [
        "### Exercícios de fixação"
      ]
    },
    {
      "cell_type": "markdown",
      "metadata": {
        "id": "TrqHyRqYs-U3",
        "colab_type": "text"
      },
      "source": [
        "1 - Leia dois números inteiros e teste se o primeiro é menor do que o segundo."
      ]
    },
    {
      "cell_type": "code",
      "metadata": {
        "id": "5cZ6BBF_s-U8",
        "colab_type": "code",
        "outputId": "3f79fe25-ab1a-4d30-b641-a6ed6c44658c",
        "colab": {
          "base_uri": "https://localhost:8080/",
          "height": 71
        }
      },
      "source": [
        "a = int(input(\"Valor a: \"))\n",
        "b = int(input(\"Valor b: \"))\n",
        "a < b"
      ],
      "execution_count": 0,
      "outputs": [
        {
          "output_type": "stream",
          "text": [
            "Valor a: 2\n",
            "Valor b: 6\n"
          ],
          "name": "stdout"
        },
        {
          "output_type": "execute_result",
          "data": {
            "text/plain": [
              "True"
            ]
          },
          "metadata": {
            "tags": []
          },
          "execution_count": 5
        }
      ]
    },
    {
      "cell_type": "markdown",
      "metadata": {
        "id": "2L4UP7kls-VH",
        "colab_type": "text"
      },
      "source": [
        "2 - Sorteie dois números e teste se ambos são iguais.\n",
        "\n",
        "**Dica --** O procedimento **randint**(*menor*, *maior*) sorteia inteiros no intervalo entre menor e maior. Este procedimento não é um procedimento nativo do Python, por isso precisamos importá-lo do módulo **random**, que o fornece."
      ]
    },
    {
      "cell_type": "code",
      "metadata": {
        "scrolled": true,
        "id": "kWFyoKw2s-VM",
        "colab_type": "code",
        "outputId": "297666fa-a2c2-43bf-de49-6e9c7ab1a4c5",
        "colab": {
          "base_uri": "https://localhost:8080/",
          "height": 53
        }
      },
      "source": [
        "from random import randint\n",
        "a = randint(0,100)\n",
        "b = randint(0,100)\n",
        "print(\"a = \", a, \"; b = \", b)\n",
        "a == b"
      ],
      "execution_count": 0,
      "outputs": [
        {
          "output_type": "stream",
          "text": [
            "a =  80 ; b =  54\n"
          ],
          "name": "stdout"
        },
        {
          "output_type": "execute_result",
          "data": {
            "text/plain": [
              "False"
            ]
          },
          "metadata": {
            "tags": []
          },
          "execution_count": 21
        }
      ]
    },
    {
      "cell_type": "markdown",
      "metadata": {
        "id": "HvVSlbNjs-Va",
        "colab_type": "text"
      },
      "source": [
        "### Comparando textos"
      ]
    },
    {
      "cell_type": "markdown",
      "metadata": {
        "id": "iaqZ7qlms-Vd",
        "colab_type": "text"
      },
      "source": [
        "Também é possível utilizar operadores de comparação para comparar textos:\n",
        "* A igualdade (==) e a diferença (!=) funcionam de forma trivial, assim como no caso dos valores numéricos.\n",
        "* As demais operações consideram a ordem alfabética.\n"
      ]
    },
    {
      "cell_type": "code",
      "metadata": {
        "id": "pel12gBls-Vg",
        "colab_type": "code",
        "outputId": "f7d41705-40ab-45d9-e5f5-6435332e32f1",
        "colab": {
          "base_uri": "https://localhost:8080/",
          "height": 35
        }
      },
      "source": [
        "nome = \"Stevejobsson\"\n",
        "nome == \"Stevejobsson\""
      ],
      "execution_count": 0,
      "outputs": [
        {
          "output_type": "execute_result",
          "data": {
            "text/plain": [
              "True"
            ]
          },
          "metadata": {
            "tags": []
          },
          "execution_count": 1
        }
      ]
    },
    {
      "cell_type": "code",
      "metadata": {
        "id": "Zdd2FJ0Fs-Vp",
        "colab_type": "code",
        "outputId": "3f5a73e3-dda9-42cc-fae8-834ef9201b36",
        "colab": {
          "base_uri": "https://localhost:8080/",
          "height": 35
        }
      },
      "source": [
        "nome != \"Facebookson\""
      ],
      "execution_count": 0,
      "outputs": [
        {
          "output_type": "execute_result",
          "data": {
            "text/plain": [
              "True"
            ]
          },
          "metadata": {
            "tags": []
          },
          "execution_count": 2
        }
      ]
    },
    {
      "cell_type": "code",
      "metadata": {
        "id": "QYBtCuOps-V3",
        "colab_type": "code",
        "outputId": "a18a4eb9-b4da-45bf-b8eb-54dcde2e5940",
        "colab": {
          "base_uri": "https://localhost:8080/",
          "height": 35
        }
      },
      "source": [
        "'abc' < 'bbc'"
      ],
      "execution_count": 0,
      "outputs": [
        {
          "output_type": "execute_result",
          "data": {
            "text/plain": [
              "True"
            ]
          },
          "metadata": {
            "tags": []
          },
          "execution_count": 3
        }
      ]
    },
    {
      "cell_type": "code",
      "metadata": {
        "id": "2bTa9hDfs-V_",
        "colab_type": "code",
        "outputId": "5af1c67e-3fb4-4941-de25-18b18cabecd7",
        "colab": {
          "base_uri": "https://localhost:8080/",
          "height": 35
        }
      },
      "source": [
        "'bbc' <= 'bbc'"
      ],
      "execution_count": 0,
      "outputs": [
        {
          "output_type": "execute_result",
          "data": {
            "text/plain": [
              "True"
            ]
          },
          "metadata": {
            "tags": []
          },
          "execution_count": 4
        }
      ]
    },
    {
      "cell_type": "code",
      "metadata": {
        "id": "fxqlnMqGs-WJ",
        "colab_type": "code",
        "outputId": "e2545d61-ab73-4d3a-ab74-8902b32698c7",
        "colab": {
          "base_uri": "https://localhost:8080/",
          "height": 35
        }
      },
      "source": [
        "'bbc' <= 'bac'"
      ],
      "execution_count": 0,
      "outputs": [
        {
          "output_type": "execute_result",
          "data": {
            "text/plain": [
              "False"
            ]
          },
          "metadata": {
            "tags": []
          },
          "execution_count": 7
        }
      ]
    },
    {
      "cell_type": "markdown",
      "metadata": {
        "id": "o1R1-8Qfs-WW",
        "colab_type": "text"
      },
      "source": [
        "### Exercícios de fixação"
      ]
    },
    {
      "cell_type": "markdown",
      "metadata": {
        "id": "vAxiMQQns-Wa",
        "colab_type": "text"
      },
      "source": [
        "3 - Leia dois nomes e teste se o primeiro é anterior ao segundo considerando a ordem alfabética."
      ]
    },
    {
      "cell_type": "code",
      "metadata": {
        "id": "6erevzgks-Wd",
        "colab_type": "code",
        "outputId": "c6afeaa9-c2a3-4b9c-c1a0-fb7b3be506d1",
        "colab": {
          "base_uri": "https://localhost:8080/",
          "height": 71
        }
      },
      "source": [
        "nome1 = input(\"Nome A: \")\n",
        "nome2 = input(\"Nome B: \")\n",
        "nome1 < nome2"
      ],
      "execution_count": 0,
      "outputs": [
        {
          "output_type": "stream",
          "text": [
            "Nome A: B\n",
            "Nome B: A\n"
          ],
          "name": "stdout"
        },
        {
          "output_type": "execute_result",
          "data": {
            "text/plain": [
              "False"
            ]
          },
          "metadata": {
            "tags": []
          },
          "execution_count": 9
        }
      ]
    },
    {
      "cell_type": "markdown",
      "metadata": {
        "id": "Cosxb0J8s-Wn",
        "colab_type": "text"
      },
      "source": [
        "4 - Teste se os textos \"Python\" e \"python\" são considerados idênticos."
      ]
    },
    {
      "cell_type": "code",
      "metadata": {
        "id": "ouEdfsZ9s-Wt",
        "colab_type": "code",
        "outputId": "47c0c1ea-92cb-4e7a-8098-a3645c714f8d",
        "colab": {
          "base_uri": "https://localhost:8080/",
          "height": 35
        }
      },
      "source": [
        "'Python' == 'python'"
      ],
      "execution_count": 0,
      "outputs": [
        {
          "output_type": "execute_result",
          "data": {
            "text/plain": [
              "False"
            ]
          },
          "metadata": {
            "tags": []
          },
          "execution_count": 12
        }
      ]
    },
    {
      "cell_type": "markdown",
      "metadata": {
        "id": "U_F9UmQ8s-W1",
        "colab_type": "text"
      },
      "source": [
        "## Operadores lógicos"
      ]
    },
    {
      "cell_type": "markdown",
      "metadata": {
        "id": "UL1KU4lss-W3",
        "colab_type": "text"
      },
      "source": [
        "É possível criar expressões lógicas mais complexas utilizando **operadores lógicos**.\n",
        "\n",
        "Os operadores lógicos mais simples do Python são os operadores E (**and**) e OU (**or**).\n",
        "\n",
        "As regras básicas sobre expressões que contenham operadores lógicos em Python são:\n",
        "\n",
        "* Operadores de comparação têm maior precedência que operadores lógicos.\n",
        "* O operador lógico **and** tem maior precedência que o operador **or**. \n",
        "* É possível usar parênteses para mudar a ordem de avaliação de uma expressão.\n",
        "* Caso reste apenas operações de mesma precedência, a expressão passa a ser avaliada da esquerda para a direita."
      ]
    },
    {
      "cell_type": "markdown",
      "metadata": {
        "id": "SZjrkXpps-W6",
        "colab_type": "text"
      },
      "source": [
        "| Símbolo | Significado |\n",
        "|:----:|---|\n",
        "| **and** | **True**, desde que ambos os lados da expressão sejam verdadeiros |\n",
        "| **or**  | **True**, desde que pelo menos um lado da expressão seja verdadeiro |"
      ]
    },
    {
      "cell_type": "code",
      "metadata": {
        "id": "9SRe5JAbs-W8",
        "colab_type": "code",
        "outputId": "982467be-8dbd-4275-c72b-74e6862efd02",
        "colab": {
          "base_uri": "https://localhost:8080/",
          "height": 35
        }
      },
      "source": [
        "\"a\" < \"b\" and 5 >= 5"
      ],
      "execution_count": 0,
      "outputs": [
        {
          "output_type": "execute_result",
          "data": {
            "text/plain": [
              "True"
            ]
          },
          "metadata": {
            "tags": []
          },
          "execution_count": 13
        }
      ]
    },
    {
      "cell_type": "code",
      "metadata": {
        "id": "gWGBFMVws-XH",
        "colab_type": "code",
        "outputId": "ae7389eb-054f-4f5c-c7a7-c69d43a5e01b",
        "colab": {
          "base_uri": "https://localhost:8080/",
          "height": 35
        }
      },
      "source": [
        "\"a\" <= \"b\" and 5 > 5"
      ],
      "execution_count": 0,
      "outputs": [
        {
          "output_type": "execute_result",
          "data": {
            "text/plain": [
              "False"
            ]
          },
          "metadata": {
            "tags": []
          },
          "execution_count": 14
        }
      ]
    },
    {
      "cell_type": "code",
      "metadata": {
        "id": "Yqpwrdm7s-XO",
        "colab_type": "code",
        "outputId": "6ceb4f03-0389-48e9-8b7c-c33e4d96e328",
        "colab": {
          "base_uri": "https://localhost:8080/",
          "height": 35
        }
      },
      "source": [
        "\"a\" <= \"b\" or 5 > 5"
      ],
      "execution_count": 0,
      "outputs": [
        {
          "output_type": "execute_result",
          "data": {
            "text/plain": [
              "True"
            ]
          },
          "metadata": {
            "tags": []
          },
          "execution_count": 15
        }
      ]
    },
    {
      "cell_type": "markdown",
      "metadata": {
        "id": "ZwQ9Gr5zs-XZ",
        "colab_type": "text"
      },
      "source": [
        "### Exercícios de fixação"
      ]
    },
    {
      "cell_type": "markdown",
      "metadata": {
        "id": "Fop-YFpPs-Xc",
        "colab_type": "text"
      },
      "source": [
        "5 - Leia um gênero e uma idade. Teste se esta combinação representa alguém em situação de obrigatoriedade militar.\n",
        "\n",
        "**Dica --** Em tempos de \"paz\", o serviço militar só é obrigatório para homens maiores de idade."
      ]
    },
    {
      "cell_type": "code",
      "metadata": {
        "id": "-JRDK-Ifs-Xd",
        "colab_type": "code",
        "outputId": "999eb574-7eb3-48a6-d25b-bb6e9ad96be5",
        "colab": {
          "base_uri": "https://localhost:8080/",
          "height": 71
        }
      },
      "source": [
        "genero = input(\"gênero: \".upper())\n",
        "idade = int(input(\"idade: \".upper()))\n",
        "\n",
        "(genero == \"masculino\" or genero == \"MASCULINO\" or genero == \"Masculino\") and idade >= 18"
      ],
      "execution_count": 0,
      "outputs": [
        {
          "output_type": "stream",
          "text": [
            "GÊNERO: Masculino\n",
            "IDADE: 18\n"
          ],
          "name": "stdout"
        },
        {
          "output_type": "execute_result",
          "data": {
            "text/plain": [
              "True"
            ]
          },
          "metadata": {
            "tags": []
          },
          "execution_count": 44
        }
      ]
    },
    {
      "cell_type": "markdown",
      "metadata": {
        "id": "dyLf9Suus-Xk",
        "colab_type": "text"
      },
      "source": [
        "6 - Leia uma idade e teste se esta pessoa está obrigada a votar.\n",
        "\n",
        "**Dica --** Estão obrigados a votar pessoas entre 18 e 70 anos de idade."
      ]
    },
    {
      "cell_type": "code",
      "metadata": {
        "id": "-c2YWtrWs-Xo",
        "colab_type": "code",
        "outputId": "14c1d613-43f2-44e8-8229-6727057740be",
        "colab": {
          "base_uri": "https://localhost:8080/",
          "height": 53
        }
      },
      "source": [
        "idade = int(input(\"idade: \".upper()))\n",
        "\n",
        "idade >= 18 and idade <=70 "
      ],
      "execution_count": 0,
      "outputs": [
        {
          "output_type": "stream",
          "text": [
            "IDADE: 90\n"
          ],
          "name": "stdout"
        },
        {
          "output_type": "execute_result",
          "data": {
            "text/plain": [
              "False"
            ]
          },
          "metadata": {
            "tags": []
          },
          "execution_count": 34
        }
      ]
    },
    {
      "cell_type": "markdown",
      "metadata": {
        "id": "4mwlHlqBs-X2",
        "colab_type": "text"
      },
      "source": [
        "7 - Leia uma idade e teste se para esta pessoa o voto é facultativo.\n",
        "\n",
        "**Dica --** O voto é facultativo para pessoas entre 16 e 18 anos ou acima dos 70 anos."
      ]
    },
    {
      "cell_type": "code",
      "metadata": {
        "id": "wuMvehuPs-X5",
        "colab_type": "code",
        "outputId": "9b734340-c7b6-4ce6-e4c4-50043a8e4c7f",
        "colab": {
          "base_uri": "https://localhost:8080/",
          "height": 53
        }
      },
      "source": [
        "idade = int(input(\"idade: \".upper()))\n",
        "\n",
        "(idade >= 16 and idade <18) or idade > 70"
      ],
      "execution_count": 0,
      "outputs": [
        {
          "output_type": "stream",
          "text": [
            "IDADE: 71\n"
          ],
          "name": "stdout"
        },
        {
          "output_type": "execute_result",
          "data": {
            "text/plain": [
              "True"
            ]
          },
          "metadata": {
            "tags": []
          },
          "execution_count": 39
        }
      ]
    },
    {
      "cell_type": "markdown",
      "metadata": {
        "id": "unmkgH1Gs-YA",
        "colab_type": "text"
      },
      "source": [
        "8 - Leia três inteiros e teste se o primeiro pertence ao intervalo delimitado pelos dois últimos.\n",
        "\n",
        "**Observação --** Por simplicidade, suponha que os dois últimos números estão ordenados de forma crescente."
      ]
    },
    {
      "cell_type": "code",
      "metadata": {
        "id": "85pKT7GFs-YC",
        "colab_type": "code",
        "outputId": "cbc0d0d8-bcba-4c50-fc9d-f3fa59883d5e",
        "colab": {
          "base_uri": "https://localhost:8080/",
          "height": 88
        }
      },
      "source": [
        "#ENTRADA\n",
        "int_a = int(input(\"INTEIRO A SE ANALISAR: \"))\n",
        "inter1 = int(input(\"início de intervalo: \".upper()))\n",
        "inter2 = int(input(\"fim de intervalo: \".upper()))\n",
        "\n",
        "#ANÁLISE\n",
        "int_a >= inter1 and int_a <= inter2"
      ],
      "execution_count": 0,
      "outputs": [
        {
          "output_type": "stream",
          "text": [
            "INTEIRO A SE ANALISAR: 19\n",
            "INÍCIO DE INTERVALO: 20\n",
            "FIM DE INTERVALO: 40\n"
          ],
          "name": "stdout"
        },
        {
          "output_type": "execute_result",
          "data": {
            "text/plain": [
              "False"
            ]
          },
          "metadata": {
            "tags": []
          },
          "execution_count": 48
        }
      ]
    },
    {
      "cell_type": "markdown",
      "metadata": {
        "id": "ti0n3eGXs-YK",
        "colab_type": "text"
      },
      "source": [
        "### Estruturas de decisão"
      ]
    },
    {
      "cell_type": "markdown",
      "metadata": {
        "id": "iiKLH15ws-YM",
        "colab_type": "text"
      },
      "source": [
        "A principal estrutura utilizada em Python para definir se um trecho de um código será executado é a estrutura **if**, ilustrada a seguir:\n",
        "\n",
        "```python\n",
        "if condicao:\n",
        "    expressao\n",
        "    expressao\n",
        "    ...```"
      ]
    },
    {
      "cell_type": "markdown",
      "metadata": {
        "id": "1q_Lpts-s-YR",
        "colab_type": "text"
      },
      "source": [
        "As regras básicas para o uso da estrutura **if** em Python são:\n",
        "\n",
        "* O trecho de código delimitado por uma estrutura **if** é chamado bloco.\n",
        "* Um bloco é caracterizado pela *identação* de suas linhas. Assim, a quantidade de espaços no começo de cada linha é bastante importante no Python.\n",
        "* O bloco de uma estrutura **if** só é executado se sua condição for satisfeita. A condição é avaliada como uma expressão lógica."
      ]
    },
    {
      "cell_type": "code",
      "metadata": {
        "id": "5TqTKvcbs-YS",
        "colab_type": "code",
        "outputId": "6109cc34-b8bf-48c4-e8d0-e64a6c5bbe04",
        "colab": {
          "base_uri": "https://localhost:8080/",
          "height": 54
        }
      },
      "source": [
        "numero = int(input())\n",
        "if numero % 2 == 0:\n",
        "    print(\"O número\", numero, \"é par.\")"
      ],
      "execution_count": 0,
      "outputs": [
        {
          "output_type": "stream",
          "text": [
            "2\n",
            "O número 2 é par.\n"
          ],
          "name": "stdout"
        }
      ]
    },
    {
      "cell_type": "markdown",
      "metadata": {
        "id": "kK_GBzk3s-Yj",
        "colab_type": "text"
      },
      "source": [
        "### Exercícios de fixação"
      ]
    },
    {
      "cell_type": "markdown",
      "metadata": {
        "id": "C4KWw1Vjs-Yn",
        "colab_type": "text"
      },
      "source": [
        "9 - Leia um inteiro e o imprima se ele for múltiplo de 3."
      ]
    },
    {
      "cell_type": "code",
      "metadata": {
        "id": "CGenESc-s-Yq",
        "colab_type": "code",
        "outputId": "75b1fd40-9438-41f5-8452-64c392cb563a",
        "colab": {
          "base_uri": "https://localhost:8080/",
          "height": 53
        }
      },
      "source": [
        "numero = int(input(\"Digite um valor: \"))\n",
        "if numero % 3 == 0:\n",
        "  print(\"O número\", numero, \"é múltiplo de 3.\")"
      ],
      "execution_count": 0,
      "outputs": [
        {
          "output_type": "stream",
          "text": [
            "Digite um valor: 27\n",
            "O número 27 é múltiplo de 3.\n"
          ],
          "name": "stdout"
        }
      ]
    },
    {
      "cell_type": "markdown",
      "metadata": {
        "id": "1iVDb6eVs-Yx",
        "colab_type": "text"
      },
      "source": [
        "10 - Informe entradas para o código abaixo que façam a mensagem ser impressa."
      ]
    },
    {
      "cell_type": "code",
      "metadata": {
        "id": "BDp1z6hHs-Y1",
        "colab_type": "code",
        "outputId": "2ce89779-2116-417c-bc8a-5c0899b33012",
        "colab": {
          "base_uri": "https://localhost:8080/",
          "height": 71
        }
      },
      "source": [
        "texto = input()\n",
        "numero = int(input())\n",
        "if texto < \"hello\" and numero ** 0.5 == 8:\n",
        "    print(\"Mensagem impressa ;)\")"
      ],
      "execution_count": 0,
      "outputs": [
        {
          "output_type": "stream",
          "text": [
            "aba\n",
            "64\n",
            "Mensagem impressa ;)\n"
          ],
          "name": "stdout"
        }
      ]
    },
    {
      "cell_type": "markdown",
      "metadata": {
        "id": "QnBptQNAs-Y8",
        "colab_type": "text"
      },
      "source": [
        "### A estrutura ```if-else```"
      ]
    },
    {
      "cell_type": "markdown",
      "metadata": {
        "id": "PIn0A2eos-Y9",
        "colab_type": "text"
      },
      "source": [
        "Uma expansão da estrutura **if** é a estrutura **if-else**, que define trechos de código mutuamente exclusivos.\n",
        "\n",
        "```python\n",
        "if condicao:\n",
        "    # bloco se a condição for satisfeita\n",
        "    expressao\n",
        "    ...\n",
        "else:\n",
        "    # bloco se a condição não for satisfeita\n",
        "    expressao\n",
        "    ...\n",
        "```\n",
        "Ambos os blocos de uma estrutura **if-else** devem estar *identados*, de preferência pela mesma quantidade de espaços."
      ]
    },
    {
      "cell_type": "code",
      "metadata": {
        "id": "g07rMUnNs-Y_",
        "colab_type": "code",
        "outputId": "c876bb9b-afb8-46c1-c431-993907778609",
        "colab": {
          "base_uri": "https://localhost:8080/",
          "height": 53
        }
      },
      "source": [
        "numero = int(input())\n",
        "if numero % 2 == 0:\n",
        "    print(\"O número\", numero, \"é par.\")\n",
        "else:\n",
        "    print(\"O número\", numero, \"é ímpar.\")"
      ],
      "execution_count": 0,
      "outputs": [
        {
          "output_type": "stream",
          "text": [
            "365165135242435468\n",
            "O número 365165135242435468 é par.\n"
          ],
          "name": "stdout"
        }
      ]
    },
    {
      "cell_type": "markdown",
      "metadata": {
        "id": "cQW4hwCHs-ZF",
        "colab_type": "text"
      },
      "source": [
        "### Exercícios de fixação"
      ]
    },
    {
      "cell_type": "markdown",
      "metadata": {
        "collapsed": true,
        "id": "jqXnvPICs-ZG",
        "colab_type": "text"
      },
      "source": [
        "11 - Leia um inteiro e informe se ele é ou não múltiplo de 6."
      ]
    },
    {
      "cell_type": "code",
      "metadata": {
        "id": "63llCp5Is-ZI",
        "colab_type": "code",
        "outputId": "b64a6099-77ab-4e9d-d45d-d6f41bd5b45a",
        "colab": {
          "base_uri": "https://localhost:8080/",
          "height": 53
        }
      },
      "source": [
        "numero = int(input(\"Digite um valor do Conjunto dos Números Inteiros (Z): \"))\n",
        "if numero % 6 == 0:\n",
        "  print(\"O valor\", numero, \"é múltiplo de 6.\")\n",
        "else:\n",
        "  print(\"O valor\", numero, \"não é múltiplo de 6.\")"
      ],
      "execution_count": 0,
      "outputs": [
        {
          "output_type": "stream",
          "text": [
            "Digite um valor do Conjunto dos Números Inteiros (Z): 48\n",
            "O valor 48 é múltiplo de 6.\n"
          ],
          "name": "stdout"
        }
      ]
    },
    {
      "cell_type": "markdown",
      "metadata": {
        "id": "TC6LEj2Qs-Zc",
        "colab_type": "text"
      },
      "source": [
        "12 - Leia dois nomes de pessoas e os imprima em ordem alfabética."
      ]
    },
    {
      "cell_type": "code",
      "metadata": {
        "id": "x11NoWpUs-Zd",
        "colab_type": "code",
        "outputId": "3bf06db0-1063-4047-972e-957087c39fe4",
        "colab": {
          "base_uri": "https://localhost:8080/",
          "height": 124
        }
      },
      "source": [
        "print(\"lista de nomes, em ordem alfabética\".upper())\n",
        "\n",
        "nome1 = input(\"Um nome: \")\n",
        "nome2 = input(\"Um nome: \")\n",
        "print(\"-----------------\")\n",
        "\n",
        "if nome1 < nome2:\n",
        "  print(\"1º - \", nome1)\n",
        "  print(\"2º - \", nome2)\n",
        "else:\n",
        "  print(\"1º - \", nome2)\n",
        "  print(\"2º - \", nome1)\n"
      ],
      "execution_count": 0,
      "outputs": [
        {
          "output_type": "stream",
          "text": [
            "LISTA DE NOMES, EM ORDEM ALFABÉTICA\n",
            "Um nome: José\n",
            "Um nome: Abraão\n",
            "-----------------\n",
            "1º -  Abraão\n",
            "2º -  José\n"
          ],
          "name": "stdout"
        }
      ]
    },
    {
      "cell_type": "markdown",
      "metadata": {
        "id": "n_p8DIDls-Zi",
        "colab_type": "text"
      },
      "source": [
        "### A estrutura ```if-elif-else```"
      ]
    },
    {
      "cell_type": "markdown",
      "metadata": {
        "id": "6Mnj4roYs-Zk",
        "colab_type": "text"
      },
      "source": [
        "É possível utilizar a estrutura **if-elif-else** para especificar múltiplos fluxos de execução do algoritmo, em função de uma condição principal e de condições alternativas:\n",
        "\n",
        "```python\n",
        "if condicao_principal:\n",
        "    # bloco se a condição principal for satisfeita\n",
        "    expressao\n",
        "    ...\n",
        "elif condicao_alternativa_1:\n",
        "    # bloco se a condição principal não for satisfeita mas a condição alternativa 1 for\n",
        "    expressao\n",
        "    ...\n",
        "elif condicao_alternativa_2:\n",
        "    # bloco se nem a condição principal nem a condição alternativa 1 forem satisfeitas, mas a condição alternativa 2 for\n",
        "    expressao\n",
        "    ...\n",
        "...\n",
        "else:\n",
        "    # bloco se nem a condição principal nem as condições alternativas forem satisfeitas\n",
        "    expressao\n",
        "    ...\n",
        "\n",
        "```"
      ]
    },
    {
      "cell_type": "markdown",
      "metadata": {
        "id": "eGu6XRjUs-Zm",
        "colab_type": "text"
      },
      "source": [
        "As regras básicas para o uso da estrutura **if-elif-else** em Python são:\n",
        "\n",
        "* O bloco **if** é executado se a condição principal for satisfeita.\n",
        "* Um bloco **elif** é executado se sua condição for satisfeita e as condições acima dele não forem. \n",
        "* O bloco **else** é executado se nenhuma condição for satisfeita.\n"
      ]
    },
    {
      "cell_type": "code",
      "metadata": {
        "id": "d3Q41tVRs-Zp",
        "colab_type": "code",
        "outputId": "9a05be5c-9d45-499f-f36b-c720aea42781",
        "colab": {
          "base_uri": "https://localhost:8080/",
          "height": 53
        }
      },
      "source": [
        "from random import randint\n",
        "\n",
        "numero = randint(0,100)\n",
        "chute = int(input(\"Chute um número entre 0 e 100: \"))\n",
        "if chute == numero:\n",
        "    print(\"Parabéns, você acertou!\")\n",
        "elif chute < numero:\n",
        "    print(\"Seu chute foi menor que o número sorteado!\")\n",
        "else:\n",
        "    print(\"Seu chute foi maior que o número sorteado!\")"
      ],
      "execution_count": 0,
      "outputs": [
        {
          "output_type": "stream",
          "text": [
            "Chute um número entre 0 e 100: 27\n",
            "Seu chute foi menor que o número sorteado!\n"
          ],
          "name": "stdout"
        }
      ]
    },
    {
      "cell_type": "markdown",
      "metadata": {
        "id": "yDHvB6MIs-Zt",
        "colab_type": "text"
      },
      "source": [
        "### Exercícios de fixação"
      ]
    },
    {
      "cell_type": "markdown",
      "metadata": {
        "id": "jB4-ebXfs-Zu",
        "colab_type": "text"
      },
      "source": [
        "13 - Leia um número e teste se ele é positivo, negativo ou nulo."
      ]
    },
    {
      "cell_type": "code",
      "metadata": {
        "id": "43jJ5V91s-Zw",
        "colab_type": "code",
        "outputId": "c754a068-09c1-457d-c2a0-518fb6238b62",
        "colab": {
          "base_uri": "https://localhost:8080/",
          "height": 53
        }
      },
      "source": [
        "valor = int(input(\"Digite um valor para que o mesmo seja categorizado: \".upper()))\n",
        "if valor == 0:\n",
        "  print(\"O valor\", valor, \"é nulo!\")\n",
        "elif valor < 0:\n",
        "  print(\"O valor\", valor, \"é negativo!\")\n",
        "else:\n",
        "  print(\"O valor\", valor, \"é positivo\")"
      ],
      "execution_count": 0,
      "outputs": [
        {
          "output_type": "stream",
          "text": [
            "DIGITE UM VALOR PARA QUE O MESMO SEJA CATEGORIZADO: 558\n",
            "O valor 558 é positivo\n"
          ],
          "name": "stdout"
        }
      ]
    },
    {
      "cell_type": "markdown",
      "metadata": {
        "id": "oXNgSNPvs-Z0",
        "colab_type": "text"
      },
      "source": [
        "### Combinando múltiplas estruturas de decisão"
      ]
    },
    {
      "cell_type": "markdown",
      "metadata": {
        "id": "DDWu_7Xzs-Z2",
        "colab_type": "text"
      },
      "source": [
        "Também é possível combinar estruturas de decisão em múltiplos níveis, o que é conhecido como **aninhar estruturas**.\n",
        "\n",
        "As regras básicas para aninhar estruturas de decisão em Python são:\n",
        "* Não há limite com relação a quantas estruturas e em quantos níveis.\n",
        "* Blocos de níveis mais profundos devem apresentar maior grau de identação. "
      ]
    },
    {
      "cell_type": "code",
      "metadata": {
        "id": "lrS851gos-Z3",
        "colab_type": "code",
        "outputId": "f8388e2d-fec9-4ec3-dd4d-7f3dba8aa86e",
        "colab": {
          "base_uri": "https://localhost:8080/",
          "height": 35
        }
      },
      "source": [
        "from random import randint\n",
        "\n",
        "numero = randint(0,100)\n",
        "if numero % 6 == 0:\n",
        "    print(\"O número\", numero, \"é múltiplo de 6!\")\n",
        "else:\n",
        "    if numero % 2 == 0:\n",
        "        print(\"O número\", numero, \"é múltiplo de 2, mas não de 3!\")\n",
        "    elif numero % 3 == 0:\n",
        "        print(\"O número\", numero, \"é múltiplo de 3, mas não de 2!\")\n",
        "    else:\n",
        "        print(\"O número\", numero, \"não é multiplo de 2 nem de 3, muito menos de 6!\")"
      ],
      "execution_count": 0,
      "outputs": [
        {
          "output_type": "stream",
          "text": [
            "O número 41 não é multiplo de 2 nem de 3, muito menos de 6!\n"
          ],
          "name": "stdout"
        }
      ]
    },
    {
      "cell_type": "markdown",
      "metadata": {
        "collapsed": true,
        "id": "DmEiZoYMs-aB",
        "colab_type": "text"
      },
      "source": [
        "## Exercícios do URI"
      ]
    },
    {
      "cell_type": "markdown",
      "metadata": {
        "collapsed": true,
        "id": "vpqc_C-es-aC",
        "colab_type": "text"
      },
      "source": [
        "[1037](https://www.urionlinejudge.com.br/judge/pt/problems/view/1037) - Um histograma é um tipo de gráfico estatístico que particiona os dados disponíveis em subgrupos e informa quantos elementos existem em cada subgrupo.\n",
        "\n",
        "Escreva um código Python que possa ser usado para construir um histograma de um conjunto de números inteiros sorteados no intervalo [0,100), isto é, valores maiores ou iguais a 0 e menores que 100. \n",
        "\n",
        "Por simplicidade, considere que apenas um número será sorteado. Você deve identificar a qual dos intervalos a seguir este número pertence: [0,25), [25,50), [50,75), [75,100). "
      ]
    },
    {
      "cell_type": "markdown",
      "metadata": {
        "id": "j96xcHqVs-aD",
        "colab_type": "text"
      },
      "source": [
        "|.| Entrada | Saída |\n",
        "|-|:----:|---|\n",
        "| *Exemplo 1* | 5 | [0,25) | \n",
        "| *Exemplo 2* | 50 | [50,75) |\n",
        "| *Exemplo 3* | 74 | [50,75) |"
      ]
    },
    {
      "cell_type": "code",
      "metadata": {
        "id": "4o86DSOFs-aG",
        "colab_type": "code",
        "outputId": "89074b55-4969-4b5e-eb5e-4e89c39bb9a8",
        "colab": {
          "base_uri": "https://localhost:8080/",
          "height": 35
        }
      },
      "source": [
        "from random import randint\n",
        "\n",
        "numero = randint(0,99)\n",
        "\n",
        "if numero >= 0 and numero < 25:\n",
        "  print(\"O número\", numero, \"pertence ao intervalo [0,25).\")\n",
        "elif numero >= 25 and numero < 50:\n",
        "  print(\"O número\", numero, \"pertence ao intervalo [25,50).\")\n",
        "elif numero >= 50 and numero < 75:\n",
        "  print(\"O número\", numero, \"pertence ao intervalo [50,75).\")\n",
        "else:\n",
        "  print(\"O número\", numero, \"pertence ao intervalo [75,100).\")"
      ],
      "execution_count": 0,
      "outputs": [
        {
          "output_type": "stream",
          "text": [
            "O número 28 pertence ao intervalo [25,50).\n"
          ],
          "name": "stdout"
        }
      ]
    },
    {
      "cell_type": "markdown",
      "metadata": {
        "id": "NQfZw7Zns-aM",
        "colab_type": "text"
      },
      "source": [
        "[1049](https://www.urionlinejudge.com.br/judge/pt/problems/view/1049) - Uma árvore de classificação é uma ferramenta usada em diferentes áreas da ciência para ajudar a identificar objetos por suas características.\n",
        "\n",
        "Considerando a árvore de classificação abaixo, escreva um código Python que identifique um animal por suas características. Mais precisamente, seu código deve receber três textos como entrada e informar ao usuário de qual animal se trata.\n",
        "\n",
        "<img src=\"https://github.com/leobezerra/python-zero/blob/master/imgs/UOJ_1049_b.png?raw=1\">"
      ]
    },
    {
      "cell_type": "markdown",
      "metadata": {
        "id": "Zs-B5DObs-aR",
        "colab_type": "text"
      },
      "source": [
        "|.| Entrada | Saída |\n",
        "|-|----|---|\n",
        "| *Exemplo 1* | vertebrado<br/>mamifero<br/>onivoro | homem | \n",
        "| *Exemplo 2* | vertebrado<br/>ave<br/>carnivoro | aguia |\n",
        "| *Exemplo 3* | invertebrado<br/>anelideo<br/>onivoro | minhoca |"
      ]
    },
    {
      "cell_type": "code",
      "metadata": {
        "id": "YmM2Jr0Ps-aT",
        "colab_type": "code",
        "outputId": "4477a629-98d7-48d5-d3f9-825656307d3f",
        "colab": {
          "base_uri": "https://localhost:8080/",
          "height": 90
        }
      },
      "source": [
        "#ENTRADA\n",
        "entrada1 = input('vertebrado ou invertebrado? '.upper())\n",
        "\n",
        "#ÁRVORE1 \n",
        "if entrada1 == \"vertebrado\" or entrada1 == \"Vertebrado\" or entrada1 == \"VERTEBRADO\": \n",
        "  entrada11 = input(\"ave ou mamífero? \".upper())  \n",
        "  if entrada11 == \"ave\" or entrada11 == \"Ave\" or entrada11 == \"AVE\":\n",
        "    entrada111 = input(\"carnívoro ou onívoro? \".upper())\n",
        "    if entrada111 == \"carnívoro\" or entrada111 == \"Carnívoro\" or entrada111 == \"CARNÍVORO\":\n",
        "      print(\"O animal é uma águia.\")  \n",
        "    elif entrada111 == \"onívoro\" or entrada111 == \"Onívoro\" or entrada111 == \"ONÍVORO\":\n",
        "      print(\"O animal é uma pomba.\")\n",
        "    else:\n",
        "      print(\"entrada inválida.\".upper())\n",
        "  elif entrada11 == \"mamífero\" or entrada11 == \"Mamífero\" or entrada11 == \"MAMÍFERO\":\n",
        "    entrada112 = input(\"onívoro ou herbívoro? \".upper())\n",
        "    if entrada112 == \"onívoro\" or entrada112 == \"Onívoro\" or entrada112 == \"ONÍVORO\":\n",
        "      print(\"O animal é um homem.\")\n",
        "    elif entrada112 == \"herbívoro\" or entrada112 == \"Herbívoro\" or entrada112 == \"HERBÍVORO\":\n",
        "      print(\"O animal é uma vaca.\")\n",
        "    else:\n",
        "      print(\"entrada inválida.\".upper())  \n",
        "  else:\n",
        "    print(\"entrada inválida.\".upper())\n",
        "\n",
        "\n",
        "#ÁRVORE2\n",
        "elif  entrada1 == \"invertebrado\" or entrada1 == \"Invertebrado\" or entrada1 == \"INVERTEBRADO\":\n",
        "  entrada22 = input(\"inseto ou anelídeo? \".upper())  \n",
        "  if entrada22 == \"inseto\" or entrada22 == \"Inseto\" or entrada22 == \"INSETO\": \n",
        "    entrada221 = input(\"hematófago ou herbívoro? \".upper())\n",
        "    if entrada221 == \"hematófago\" or entrada221 == \"Hematófago\" or entrada221 == \"HEMATÓFAGO\":\n",
        "      print(\"O animal é uma pulga.\")\n",
        "    elif entrada221 == \"herbívoro\" or entrada221 == \"Herbívoro\" or entrada221 == \"HERBÍVORO\":\n",
        "      print(\"O animal é uma lagarta.\")\n",
        "    else:\n",
        "      print(\"entrada inválida.\".upper())\n",
        "  elif entrada22 == \"anelídeo\" or entrada22 == \"Anelídeo\" or entrada22 == \"ANELÍDEO\": \n",
        "    entrada222 = input(\"hematófago ou onívoro? \".upper())\n",
        "    if entrada222 == \"hematófago\" or entrada222 == \"Hematófago\" or entrada222 == \"HEMATÓFAGO\":\n",
        "      print(\"O animal é um sanguessuga.\")\n",
        "    elif entrada222 == \"onívoro\" or entrada222 == \"Onívoro\" or entrada222 == \"ONÍVORO\":\n",
        "      print(\"O animal é uma minhoca.\")\n",
        "    else:\n",
        "      print(\"entrada inválida.\".upper())\n",
        "  else:\n",
        "    print(\"entrada inválida.\".upper())\n",
        "else:\n",
        "  print(\"entrada inválida.\".upper())\n",
        "\n"
      ],
      "execution_count": 0,
      "outputs": [
        {
          "output_type": "stream",
          "text": [
            "VERTEBRADO OU INVERTEBRADO? invertebrado\n",
            "INSETO OU ANELÍDEO? anelídeo\n",
            "HEMATÓFAGO OU ONÍVORO? ONÍVORO\n",
            "O animal é uma minhoca.\n"
          ],
          "name": "stdout"
        }
      ]
    },
    {
      "cell_type": "markdown",
      "metadata": {
        "id": "JZF2In2Fs-ab",
        "colab_type": "text"
      },
      "source": [
        "[1049](https://www.urionlinejudge.com.br/judge/pt/problems/view/1049) - Em sistemas de computação gráfica, compreender diferentes sistemas de coordenadas é fundamental.\n",
        "\n",
        "Considere o sistema de coordenadas cartesiano apresentado na figura abaixo. Ele serve para representar pontos que apresentam duas dimensões, normalmente representados com a notação (x, y), onde x representa a coordenada horizontal e y a vertical.\n",
        "\n",
        "<img src=\"https://github.com/leobezerra/python-zero/blob/master/imgs/UOJ_1041.png?raw=1\">\n",
        "\n",
        "O ponto (0,0) representa a origem dos eixos e é a intersecção entre as quatro subregiões ilustradas na figura abaixo (Q1, Q2, Q3 e Q4, onde Q significa *quadrante*, isto é, uma subregião). Cada quadrante da figura representa pontos com as seguintes características:\n",
        "\n",
        "| Quadrante | Horizontal | Vertical |\n",
        "|:-:|:-:|:-:|\n",
        "| Q1 | x > 0 | y > 0 |\n",
        "| Q2 | x < 0 | y > 0 |\n",
        "| Q3 | x < 0 | y < 0 |\n",
        "| Q4 | x > 0 | y < 0 |\n",
        "\n",
        "Também é possível que um ponto esteja sobre um dos eixos:\n",
        "* Um ponto estará sobre o eixo x se y = 0;\n",
        "* Um ponto estará sobre o eixo y se x = 0.\n",
        "\n",
        "Considerando este contexto, escreva um código Python que leia um ponto (duas coordenadas reais) e informe a primeira condição abaixo que se mostrar verdadeira:\n",
        "* Se o ponto está na \"Origem\";\n",
        "* Se o ponto está sobre o \"Eixo X\";\n",
        "* Se o ponto está sobre o \"Eixo Y\";\n",
        "* Em qual quadrante o ponto está."
      ]
    },
    {
      "cell_type": "markdown",
      "metadata": {
        "id": "gwQ6n9PGs-ac",
        "colab_type": "text"
      },
      "source": [
        "|.| Entrada | Saída |\n",
        "|-|:-:|:-:|\n",
        "| *Exemplo 1* | 4.5<br/>-2.2 | Q4 | \n",
        "| *Exemplo 2* | 0.1<br/>0.0 | Eixo X |\n",
        "| *Exemplo 3* | 0.0<br/>0.0 | Origem |"
      ]
    },
    {
      "cell_type": "code",
      "metadata": {
        "id": "xwDS8Oy5s-ad",
        "colab_type": "code",
        "colab": {
          "base_uri": "https://localhost:8080/",
          "height": 72
        },
        "outputId": "6f097609-914c-41ce-cdf1-da6cbc7d8a0d"
      },
      "source": [
        "#ENTRADA\n",
        "valorX = float(input(\"x = \"))\n",
        "valorY = float(input(\"y = \"))\n",
        "\n",
        "#CÁLCULO\n",
        "if valorX == 0 and valorY == 0:\n",
        "  print(\"O ponto (\", \"{:.0f}\".format(valorX), \",\", \"{:.0f}\".format(valorY), \") está na Origem.\")\n",
        "elif valorY == 0:\n",
        "  print(\"O ponto (\", valorX, \",\", \"{:.0f}\".format(valorY), \") está sobre o eixo X.\")\n",
        "elif valorX == 0:\n",
        "  print(\"O ponto (\", \"{:.0f}\".format(valorX), \",\", valorY, \") está sobre o eixo Y.\")\n",
        "else:\n",
        "  if valorX > 0 and valorY > 0:\n",
        "    print(\"O ponto (\", valorX, \",\", valorY, \") está no Quadrante 1.\")\n",
        "  elif valorX < 0 and valorY > 0:\n",
        "    print(\"O ponto (\", valorX, \",\", valorY, \") está no Quadrante 2.\")\n",
        "  elif valorX < 0 and valorY < 0:\n",
        "    print(\"O ponto (\", valorX, \",\", valorY, \") está no Quadrante 3.\")\n",
        "  elif valorX > 0 and valorY < 0:\n",
        "    print(\"O ponto (\", valorX, \",\", valorY, \") está no Quadrante 4.\")\n",
        "  else:\n",
        "    print(\"Erro.\")"
      ],
      "execution_count": 8,
      "outputs": [
        {
          "output_type": "stream",
          "text": [
            "x = -27\n",
            "y = 26\n",
            "O ponto ( -27.0 , 26.0 ) está no Quadrante 2.\n"
          ],
          "name": "stdout"
        }
      ]
    },
    {
      "cell_type": "markdown",
      "metadata": {
        "id": "Mx5_bV_as-ai",
        "colab_type": "text"
      },
      "source": [
        "[1051](https://www.urionlinejudge.com.br/judge/pt/problems/view/1051) - Sistemas contábeis e de recursos humanos precisam conhecer bem a legislação tributária do país para calcular os impostos a serem recolhidos mensalmente sobre o salário dos funcionários. \n",
        "\n",
        "Trabalhadores também precisam entender quanto ganham e porque existem descontos em seus contra-cheques.\n",
        "\n",
        "Neste exercício, você vai ajudar empresas e trabalhadores a entender os descontos da previdência social (INSS).\n",
        "\n",
        "A tabela usada para calcular esses descontos é apresentada a seguir."
      ]
    },
    {
      "cell_type": "markdown",
      "metadata": {
        "id": "xEz4k4YCs-ak",
        "colab_type": "text"
      },
      "source": [
        "| Salário de contribuição | Alíquota |\n",
        "|:-:|:-:|\n",
        "| Até 1.693,72 | 8% | \n",
        "| De 1.693,73 a 2.822,90 | 9% |\n",
        "| De 2.822,91 até 5.645,80 | 11% |"
      ]
    },
    {
      "cell_type": "markdown",
      "metadata": {
        "id": "XwF9unays-al",
        "colab_type": "text"
      },
      "source": [
        "Como você pode ver, o desconto sobre o salário depende da faixa salarial na qual um trabalhador se enquadre.\n",
        "\n",
        "Além disso, existe um teto na tabela que determina que pessoas que ganhem a partir de 5.645,81 devem contribuir com 621,04 (11% de 5.645,80).\n",
        "\n",
        "Escreva um código Python que receba um salário bruto (antes do desconto) e informe o valor da contribuição para o INSS e o salário líquido (após o desconto)."
      ]
    },
    {
      "cell_type": "markdown",
      "metadata": {
        "id": "HVG0Ikbds-an",
        "colab_type": "text"
      },
      "source": [
        "|.| Entrada | Saída |\n",
        "|-|:-:|-|\n",
        "| *Exemplo 1* | 7456.57 | 621.04 6835.53 | \n",
        "| *Exemplo 2* | 2822.90 | 254.06 2568.84 |\n",
        "| *Exemplo 3* | 1693.73 | 152.44 1541.29 |"
      ]
    },
    {
      "cell_type": "code",
      "metadata": {
        "id": "uOmHCnWZs-ap",
        "colab_type": "code",
        "colab": {}
      },
      "source": [
        "#ENTRADA\n",
        "salbrt = float(input(\"Salário bruto: R$ \"))*100\n",
        "\n",
        "#CONSTANTES\n",
        "inss1 = 0.08\n",
        "inss2 = 0.09\n",
        "inss3 = 0.11\n",
        "#CONSTANTES\n",
        "topo1 = 169372\n",
        "base2 = 169373\n",
        "topo2 = 282290\n",
        "base3 = 282291\n",
        "topo3 = 564580\n",
        "aliqteto = 62104\n",
        "#CÁLCULO\n",
        "if salbrt <= topo1:\n",
        "  aliq = salbrt*inss1\n",
        "  salliq = salbrt-aliq\n",
        "  print(\"Com alíquota de 8% ( R$\", \"{:.2f}\".format(aliq/100), \") o salário líquido é de R$\", \"{:.2f}\".format(salliq/100))\n",
        "elif salbrt >= base2 and salbrt <= topo2:\n",
        "  aliq = salbrt*inss2\n",
        "  salliq = salbrt-aliq\n",
        "  print(\"Com alíquota de 9% ( R$\", \"{:.2f}\".format(aliq/100), \") o salário líquido é de R$\", \"{:.2f}\".format(salliq/100))\n",
        "elif salbrt >= base3 and salbrt <=topo3:\n",
        "  aliq = salbrt*inss3\n",
        "  salliq = salbrt-aliq\n",
        "  print(\"Com alíquota de 11% ( R$\", \"{:.2f}\".format(aliq/100), \") o salário líquido é de R$\", \"{:.2f}\".format(salliq/100))\n",
        "else:\n",
        "  salliq = salbrt-aliqteto\n",
        "  print(\"Com alíquota de 11% ( R$\", \"{:.2f}\".format(aliqteto/100), \") o salário líquido é de R$\", \"{:.2f}\".format(salliq/100))"
      ],
      "execution_count": 0,
      "outputs": []
    },
    {
      "cell_type": "markdown",
      "metadata": {
        "id": "XTISNYfLs-av",
        "colab_type": "text"
      },
      "source": [
        "Um segundo tipo de dedução mensal que incide sobre os ganhos dos trabalhadores é o *imposto de renda sobre pessoa física* (IRPF).\n",
        "\n",
        "Para o cálculo do IRPF, utiliza-se como base de cálculo o salário bruto descontado da contribuição do INSS. \n",
        "\n",
        "As principais diferenças em relação ao cálculo do INSS são:\n",
        "* Quem possui salário-base até 1.903,98 é isento do pagamento do IRPF.\n",
        "* Não há teto para a contribuição do IRPF.\n",
        "* O valor do IRPF cobrado a uma pessoa é abatido de um valor que varia em função da alíquota correspondente.\n",
        "\n",
        "A tabela usada para o cálculo do IRPF é mostrada abaixo."
      ]
    },
    {
      "cell_type": "markdown",
      "metadata": {
        "id": "U437WsPts-ay",
        "colab_type": "text"
      },
      "source": [
        "| Base de cálculo (R\\$) | Alíquota | Parcela a deduzir |\n",
        "|:-:|:-:|:-:|\n",
        "| Até 1.903,98 | - | - |\n",
        "| De 1.903,99 até 2.826,65 | 7,5% | 142,80 |\n",
        "| De 2.826,66 até 3.751,05 | 15% | 354,80 |\n",
        "| De 3.751,06 até 4.664,68 | 22,5% | 636,13 |\n",
        "| Acima de 4.664,68 | 27,5% | 869,36 |"
      ]
    },
    {
      "cell_type": "markdown",
      "metadata": {
        "id": "6Zvq0GYDs-a1",
        "colab_type": "text"
      },
      "source": [
        "Para entender melhor o cálculo do IRPF, vamos tomar como exemplo uma pessoa que, descontada a contribuição do INSS, ganha 2.000,00.\n",
        "\n",
        "A alíquota para esta remuneração é de 7,5% e o abatimento de 142,80. Assim, a contribuição do IRPF será de 2.000,00 * 7,5% - 142,80 = 7,20.\n",
        "\n",
        "Escreva um código Python que receba um salário-base (já descontado do INSS) e informe o valor da contribuição do IRPF e o salário líquido (após o desconto do IRPF)."
      ]
    },
    {
      "cell_type": "markdown",
      "metadata": {
        "id": "8WrGDyb7s-a2",
        "colab_type": "text"
      },
      "source": [
        "|.| Entrada | Saída |\n",
        "|-|:-:|-|\n",
        "| *Exemplo 1* | 6835.53 | 1010.41 5825.12 | \n",
        "| *Exemplo 2* | 2568.84 | 49.86 2518.98 |\n",
        "| *Exemplo 3* | 1541.29 | 0.00 1541.29 |"
      ]
    },
    {
      "cell_type": "code",
      "metadata": {
        "id": "eG12iD5es-a4",
        "colab_type": "code",
        "colab": {
          "base_uri": "https://localhost:8080/",
          "height": 54
        },
        "outputId": "af7c6343-a927-42c3-f41b-f21991cd3bec"
      },
      "source": [
        "#ENTRADA\n",
        "salbase = float(input(\"Salário-base: R$\".upper()))*100\n",
        "#CONSTANTES VALORES\n",
        "topo1 = 190398\n",
        "base2 = 190399\n",
        "dedu2 = 14280\n",
        "topo2 = 282665\n",
        "base3 = 282666\n",
        "dedu3 = 35480\n",
        "topo3 = 375105\n",
        "base4 = 375106\n",
        "dedu4 = 63613\n",
        "topo4 = 466468\n",
        "dedu5 = 86936\n",
        "#CONSTANTES ALÍQUOTAS\n",
        "aliq2 = 0.075\n",
        "aliq3 = 0.15\n",
        "aliq4 = 0.225\n",
        "aliq5 = 0.275\n",
        "#CÁLCULO\n",
        "if salbase <= topo1:\n",
        "  print(\"Com alíquota de 0% (R$ 0,00) e dedução nula, o salário líquido é de R$\", \"{:.2f}\".format(salbase/100))\n",
        "elif salbase >= base2 and salbase <= topo2:\n",
        "  contri = salbase*aliq2\n",
        "  salliq = salbase-(contri-dedu2)\n",
        "  print(\"Com descontos de R$\", \"{:.2f}\".format((contri-dedu2)/100), \", o salário líquido é de R$\", \"{:.2f}\".format(salliq/100))\n",
        "elif salbase >= base3 and salbase <= topo3:\n",
        "  contri = salbase*aliq3\n",
        "  salliq = salbase-(contri-dedu3)\n",
        "  print(\"Com descontos de R$\", \"{:.2f}\".format((contri-dedu3)/100), \", o salário líquido é de R$\", \"{:.2f}\".format(salliq/100))\n",
        "elif salbase >= base4 and salbase <= topo4:\n",
        "  contri = salbase*aliq4\n",
        "  salliq = salbase-(contri-dedu4)\n",
        "  print(\"Com descontos de R$\", \"{:.2f}\".format((contri-dedu4)/100), \", o salário líquido é de R$\", \"{:.2f}\".format(salliq/100))\n",
        "else:\n",
        "  contri = salbase*aliq5\n",
        "  salliq = salbase-(contri-dedu5)\n",
        "  print(\"Com descontos de R$\", \"{:.2f}\".format((contri-dedu5)/100), \", o salário líquido é de R$\", \"{:.2f}\".format(salliq/100))"
      ],
      "execution_count": 43,
      "outputs": [
        {
          "output_type": "stream",
          "text": [
            "SALÁRIO-BASE: R$22000\n",
            "Com descontos de R$ 5180.64 , o salário líquido é de R$ 16819.36\n"
          ],
          "name": "stdout"
        }
      ]
    }
  ]
}
